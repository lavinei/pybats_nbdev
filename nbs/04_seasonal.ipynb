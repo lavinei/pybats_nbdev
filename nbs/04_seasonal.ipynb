{
 "cells": [
  {
   "cell_type": "code",
   "execution_count": null,
   "metadata": {},
   "outputs": [],
   "source": [
    "#hide\n",
    "%load_ext autoreload\n",
    "%autoreload 2"
   ]
  },
  {
   "cell_type": "code",
   "execution_count": null,
   "metadata": {},
   "outputs": [],
   "source": [
    "# default_exp seasonal"
   ]
  },
  {
   "cell_type": "markdown",
   "metadata": {},
   "source": [
    "# Seasonal Components\n",
    "\n",
    "> This module contains functions to define the seasonal components in a DGLM. These are *harmonic* seasonal components, meaning they are defined by sine and cosine functions, with a specific defined period. For example, when working with daily time series, we often define a weekly seasonal effect of period 7, or an annual seasonal effect of period 365."
   ]
  },
  {
   "cell_type": "code",
   "execution_count": null,
   "metadata": {},
   "outputs": [],
   "source": [
    "#hide\n",
    "#exporti\n",
    "import numpy as np\n",
    "from pybats_nbdev.forecast import forecast_aR, forecast_R_cov"
   ]
  },
  {
   "cell_type": "markdown",
   "metadata": {},
   "source": [
    "## Seasonal Components for a DGLM"
   ]
  },
  {
   "cell_type": "code",
   "execution_count": null,
   "metadata": {},
   "outputs": [],
   "source": [
    "#export\n",
    "def seascomp(period, harmComponents):\n",
    "    p = len(harmComponents)\n",
    "    n = 2*p\n",
    "    F = np.zeros([n, 1])\n",
    "    F[0:n:2] = 1\n",
    "    G = np.zeros([n, n])\n",
    "\n",
    "    for j in range(p):\n",
    "        c = np.cos(2*np.pi*harmComponents[j]/period)\n",
    "        s = np.sin(2*np.pi*harmComponents[j]/period)\n",
    "        idx = 2*j\n",
    "        G[idx:(idx+2), idx:(idx+2)] = np.array([[c, s],[-s, c]])\n",
    "\n",
    "    return [F, G]"
   ]
  },
  {
   "cell_type": "markdown",
   "metadata": {},
   "source": [
    "This function is called from `dglm.__init__` to define the seasonal components."
   ]
  },
  {
   "cell_type": "code",
   "execution_count": null,
   "metadata": {},
   "outputs": [],
   "source": [
    "#exporti\n",
    "def createFourierToSeasonalL(period, harmComponents, Fseas, Gseas):\n",
    "    p = len(harmComponents)\n",
    "    L = np.zeros([period, 2*p])\n",
    "    L[0,:] = Fseas.reshape(-1)\n",
    "    for i in range(1, period):\n",
    "        L[i,:] = L[i-1,:] @ Gseas\n",
    "\n",
    "    return L"
   ]
  },
  {
   "cell_type": "code",
   "execution_count": null,
   "metadata": {},
   "outputs": [],
   "source": [
    "#export\n",
    "def fourierToSeasonal(mod, comp=0):\n",
    "    phi = mod.L[comp] @ mod.m[mod.iseas[comp]]\n",
    "    var = mod.L[comp] @ mod.C[np.ix_(mod.iseas[comp], mod.iseas[comp])] @ mod.L[comp].T\n",
    "    return phi, var"
   ]
  },
  {
   "cell_type": "markdown",
   "metadata": {},
   "source": [
    "This function transforms the seasonal component of a model from fourier form into more interpretable seasonal components. For example, if `seasPeriod = [7]`, then this would return a vector of length $7$, with each of the seasonal effects.\n",
    "\n",
    "A simple use case is given below. For a more detailed use of this function, see the following [example](https://github.com/lavinei/pybats_nbdev/blob/master/examples/Poisson_DGLM_In_Depth_Example.ipynb)."
   ]
  },
  {
   "cell_type": "code",
   "execution_count": null,
   "metadata": {},
   "outputs": [],
   "source": [
    "import numpy as np\n",
    "import pandas as pd\n",
    "import matplotlib.pyplot as plt\n",
    "from pybats_nbdev.analysis import analysis\n",
    "from pybats_nbdev.shared import load_sales_example2"
   ]
  },
  {
   "cell_type": "code",
   "execution_count": null,
   "metadata": {},
   "outputs": [],
   "source": [
    "data = load_sales_example2()"
   ]
  },
  {
   "cell_type": "code",
   "execution_count": null,
   "metadata": {},
   "outputs": [],
   "source": [
    "prior_length = 21   # Number of days of data used to set prior\n",
    "rho = 0.5           # Random effect discount factor to increase variance of forecast distribution"
   ]
  },
  {
   "cell_type": "code",
   "execution_count": null,
   "metadata": {},
   "outputs": [],
   "source": [
    "mod = analysis(data.Sales.values, data[['Price', 'Promotion']].values, k=1,\n",
    "               family='poisson',\n",
    "               seasPeriods=[7], seasHarmComponents=[[1,2,3]],\n",
    "               prior_length=prior_length, dates=data.index,\n",
    "               ret = ['model'])"
   ]
  },
  {
   "cell_type": "code",
   "execution_count": null,
   "metadata": {},
   "outputs": [],
   "source": [
    "seas_mean, seas_cov = fourierToSeasonal(mod)"
   ]
  },
  {
   "cell_type": "code",
   "execution_count": null,
   "metadata": {},
   "outputs": [],
   "source": [
    "days = ['Monday', 'Tuesday', 'Wednesday', 'Thursday', 'Friday', 'Saturday', 'Sunday']\n",
    "lastday = data.index[-1]\n",
    "\n",
    "days = [*days[lastday.isoweekday()-1:], *days[:lastday.isoweekday()-1]]"
   ]
  },
  {
   "cell_type": "code",
   "execution_count": null,
   "metadata": {},
   "outputs": [
    {
     "data": {
      "text/html": [
       "<div>\n",
       "<style scoped>\n",
       "    .dataframe tbody tr th:only-of-type {\n",
       "        vertical-align: middle;\n",
       "    }\n",
       "\n",
       "    .dataframe tbody tr th {\n",
       "        vertical-align: top;\n",
       "    }\n",
       "\n",
       "    .dataframe thead th {\n",
       "        text-align: right;\n",
       "    }\n",
       "</style>\n",
       "<table border=\"1\" class=\"dataframe\">\n",
       "  <thead>\n",
       "    <tr style=\"text-align: right;\">\n",
       "      <th></th>\n",
       "      <th>Day</th>\n",
       "      <th>Mean</th>\n",
       "    </tr>\n",
       "  </thead>\n",
       "  <tbody>\n",
       "    <tr>\n",
       "      <th>0</th>\n",
       "      <td>Friday</td>\n",
       "      <td>1.002880</td>\n",
       "    </tr>\n",
       "    <tr>\n",
       "      <th>1</th>\n",
       "      <td>Saturday</td>\n",
       "      <td>1.349696</td>\n",
       "    </tr>\n",
       "    <tr>\n",
       "      <th>2</th>\n",
       "      <td>Sunday</td>\n",
       "      <td>1.325227</td>\n",
       "    </tr>\n",
       "    <tr>\n",
       "      <th>3</th>\n",
       "      <td>Monday</td>\n",
       "      <td>0.886239</td>\n",
       "    </tr>\n",
       "    <tr>\n",
       "      <th>4</th>\n",
       "      <td>Tuesday</td>\n",
       "      <td>0.837136</td>\n",
       "    </tr>\n",
       "    <tr>\n",
       "      <th>5</th>\n",
       "      <td>Wednesday</td>\n",
       "      <td>0.882167</td>\n",
       "    </tr>\n",
       "    <tr>\n",
       "      <th>6</th>\n",
       "      <td>Thursday</td>\n",
       "      <td>0.851780</td>\n",
       "    </tr>\n",
       "  </tbody>\n",
       "</table>\n",
       "</div>"
      ],
      "text/plain": [
       "         Day      Mean\n",
       "0     Friday  1.002880\n",
       "1   Saturday  1.349696\n",
       "2     Sunday  1.325227\n",
       "3     Monday  0.886239\n",
       "4    Tuesday  0.837136\n",
       "5  Wednesday  0.882167\n",
       "6   Thursday  0.851780"
      ]
     },
     "execution_count": null,
     "metadata": {},
     "output_type": "execute_result"
    }
   ],
   "source": [
    "seas_eff = pd.DataFrame({'Day':days,\n",
    "                         'Mean':np.exp(seas_mean.reshape(-1))})\n",
    "seas_eff"
   ]
  },
  {
   "cell_type": "code",
   "execution_count": null,
   "metadata": {},
   "outputs": [],
   "source": [
    "#exporti\n",
    "def fourierToSeasonalFxnl(L, m, C, iseas):\n",
    "    phi = L @ m[iseas]\n",
    "    var = L @ C[np.ix_(iseas, iseas)] @ L.T\n",
    "    return phi, var"
   ]
  },
  {
   "cell_type": "code",
   "execution_count": null,
   "metadata": {},
   "outputs": [],
   "source": [
    "#exporti\n",
    "def get_seasonal_effect_fxnl(L, m, C, iseas):\n",
    "    phi, var = fourierToSeasonalFxnl(L, m, C, iseas)\n",
    "    return phi[0], var[0, 0]"
   ]
  },
  {
   "cell_type": "code",
   "execution_count": null,
   "metadata": {},
   "outputs": [],
   "source": [
    "#exporti\n",
    "def sample_seasonal_effect_fxnl(L, m, C, iseas, delVar, n, nsamps):\n",
    "    phi_samps = np.zeros([nsamps])\n",
    "    phi, var = fourierToSeasonalFxnl(L, m, C, iseas)\n",
    "    phi_samps[:] = phi[0] + np.sqrt(var[0,0])*np.random.standard_t(delVar*n, size = [nsamps])\n",
    "    return phi_samps"
   ]
  },
  {
   "cell_type": "code",
   "execution_count": null,
   "metadata": {},
   "outputs": [],
   "source": [
    "#exporti\n",
    "def forecast_weekly_seasonal_factor(mod, k, sample = False, nsamps = 1):\n",
    "    a, R = forecast_aR(mod, k)\n",
    "\n",
    "    idx = np.where(np.array(mod.seasPeriods) == 7)[0][0]\n",
    "\n",
    "    if sample:\n",
    "        return sample_seasonal_effect_fxnl(mod.L[idx], a, R, mod.iseas[idx], mod.delVar, mod.n, nsamps)\n",
    "    else:\n",
    "        return get_seasonal_effect_fxnl(mod.L[idx], a, R, mod.iseas[idx])"
   ]
  },
  {
   "cell_type": "code",
   "execution_count": null,
   "metadata": {},
   "outputs": [],
   "source": [
    "#exporti\n",
    "def forecast_path_weekly_seasonal_factor(mod, k, today, period):\n",
    "    phi_mu = [np.zeros([period]) for h in range(k)]\n",
    "    phi_sigma = [np.zeros([period, period]) for h in range(k)]\n",
    "    phi_psi = [np.zeros([period, period, h]) for h in range(1, k)]\n",
    "\n",
    "    idx = np.where(np.array(mod.seasPeriods) == 7)[0][0]\n",
    "    L = mod.L[idx]\n",
    "    iseas = mod.iseas[idx]\n",
    "\n",
    "    for h in range(k):\n",
    "\n",
    "        # Get the marginal a, R\n",
    "        a, R = forecast_aR(mod, h + 1)\n",
    "\n",
    "        m, v = get_seasonal_effect_fxnl(L, a, R, iseas)\n",
    "        day = (today + h) % period\n",
    "        phi_mu[h][day] = m\n",
    "        phi_sigma[h][day, day] = v\n",
    "        # phi_mu[h], phi_sigma[h] = get_latent_factor_fxnl_old((today + h) % period, mod.L, a, R, mod.iseas, mod.seasPeriods[0])\n",
    "\n",
    "        # Find covariances with previous latent factor values\n",
    "        for j in range(h):\n",
    "            # Covariance matrix between the state vector at times j, i, i > j\n",
    "            day_j = (today + j) % period\n",
    "            cov_jh = forecast_R_cov(mod, j, h)[np.ix_(iseas, iseas)]\n",
    "            phi_psi[h-1][day, day_j, j] = phi_psi[h-1][day_j, day, j] = (L @ cov_jh @ L.T)[day, day_j]\n",
    "            # cov_ij = (np.linalg.matrix_power(mod.G, h-j) @ Rlist[j])[np.ix_(mod.iseas, mod.iseas)]\n",
    "\n",
    "    return phi_mu, phi_sigma, phi_psi"
   ]
  },
  {
   "cell_type": "code",
   "execution_count": null,
   "metadata": {},
   "outputs": [],
   "source": [
    "#hide\n",
    "from nbdev.export import notebook2script\n",
    "notebook2script()"
   ]
  }
 ],
 "metadata": {
  "kernelspec": {
   "display_name": "Python 3",
   "language": "python",
   "name": "python3"
  }
 },
 "nbformat": 4,
 "nbformat_minor": 4
}
