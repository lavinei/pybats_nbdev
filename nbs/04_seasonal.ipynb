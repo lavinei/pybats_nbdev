{
 "cells": [
  {
   "cell_type": "code",
   "execution_count": null,
   "metadata": {},
   "outputs": [],
   "source": [
    "%load_ext autoreload\n",
    "%autoreload 2"
   ]
  },
  {
   "cell_type": "code",
   "execution_count": null,
   "metadata": {},
   "outputs": [],
   "source": [
    "# default_exp seasonal"
   ]
  },
  {
   "cell_type": "markdown",
   "metadata": {},
   "source": [
    "# Seasonal Components\n",
    "\n",
    "> This module contains functions to define the seasonal components in a DGLM. These are *harmonic* seasonal components, meaning they are defined by sine and cosine functions, with a specific defined period. For example, when working with daily time series, we often define a weekly seasonal effect of period 7, or an annual seasonal effect of period 365."
   ]
  },
  {
   "cell_type": "code",
   "execution_count": null,
   "metadata": {},
   "outputs": [],
   "source": [
    "#hide\n",
    "#exporti\n",
    "import numpy as np\n",
    "from pybats_nbdev.forecast import forecast_aR, forecast_R_cov"
   ]
  },
  {
   "cell_type": "markdown",
   "metadata": {},
   "source": [
    "## Seasonal Components for a DGLM"
   ]
  },
  {
   "cell_type": "code",
   "execution_count": null,
   "metadata": {},
   "outputs": [],
   "source": [
    "#export\n",
    "def seascomp(period, harmComponents):\n",
    "    p = len(harmComponents)\n",
    "    n = 2*p\n",
    "    F = np.zeros([n, 1])\n",
    "    F[0:n:2] = 1\n",
    "    G = np.zeros([n, n])\n",
    "\n",
    "    for j in range(p):\n",
    "        c = np.cos(2*np.pi*harmComponents[j]/period)\n",
    "        s = np.sin(2*np.pi*harmComponents[j]/period)\n",
    "        idx = 2*j\n",
    "        G[idx:(idx+2), idx:(idx+2)] = np.array([[c, s],[-s, c]])\n",
    "\n",
    "    return [F, G]"
   ]
  },
  {
   "cell_type": "code",
   "execution_count": null,
   "metadata": {},
   "outputs": [],
   "source": [
    "#export\n",
    "def createFourierToSeasonalL(period, harmComponents, Fseas, Gseas):\n",
    "    p = len(harmComponents)\n",
    "    L = np.zeros([period, 2*p])\n",
    "    L[0,:] = Fseas.reshape(-1)\n",
    "    for i in range(1, period):\n",
    "        L[i,:] = L[i-1,:] @ Gseas\n",
    "        \n",
    "    return L"
   ]
  },
  {
   "cell_type": "code",
   "execution_count": null,
   "metadata": {},
   "outputs": [],
   "source": [
    "#export\n",
    "def fourierToSeasonal(mod):\n",
    "    phi = mod.L @ mod.m[mod.iseas]\n",
    "    var = mod.L @ mod.C[np.ix_(mod.iseas, mod.iseas)] @ mod.L.T\n",
    "    return phi, var"
   ]
  },
  {
   "cell_type": "code",
   "execution_count": null,
   "metadata": {},
   "outputs": [],
   "source": [
    "#export\n",
    "def fourierToSeasonalFxnl(L, m, C, iseas):\n",
    "    phi = L @ m[iseas]\n",
    "    var = L @ C[np.ix_(iseas, iseas)] @ L.T\n",
    "    return phi, var"
   ]
  },
  {
   "cell_type": "markdown",
   "metadata": {},
   "source": [
    "### Functions for Latent Factor Inference"
   ]
  },
  {
   "cell_type": "code",
   "execution_count": null,
   "metadata": {},
   "outputs": [],
   "source": [
    "#exporti\n",
    "def get_seasonal_effect_fxnl(L, m, C, iseas):\n",
    "    phi, var = fourierToSeasonalFxnl(L, m, C, iseas)\n",
    "    return phi[0], var[0, 0]"
   ]
  },
  {
   "cell_type": "code",
   "execution_count": null,
   "metadata": {},
   "outputs": [],
   "source": [
    "#exporti\n",
    "def sample_seasonal_effect_fxnl(L, m, C, iseas, delVar, n, nsamps):\n",
    "    phi_samps = np.zeros([nsamps])\n",
    "    phi, var = fourierToSeasonalFxnl(L, m, C, iseas)\n",
    "    phi_samps[:] = phi[0] + np.sqrt(var[0,0])*np.random.standard_t(delVar*n, size = [nsamps])\n",
    "    return phi_samps"
   ]
  },
  {
   "cell_type": "code",
   "execution_count": null,
   "metadata": {},
   "outputs": [],
   "source": [
    "#exporti\n",
    "def forecast_weekly_seasonal_factor(mod, k, sample = False, nsamps = 1):\n",
    "    a, R = forecast_aR(mod, k)\n",
    "\n",
    "    idx = np.where(np.array(mod.seasPeriods) == 7)[0][0]\n",
    "\n",
    "    if sample:\n",
    "        return sample_seasonal_effect_fxnl(mod.L[idx], a, R, mod.iseas[idx], mod.delVar, mod.n, nsamps)\n",
    "    else:\n",
    "        return get_seasonal_effect_fxnl(mod.L[idx], a, R, mod.iseas[idx])"
   ]
  },
  {
   "cell_type": "code",
   "execution_count": null,
   "metadata": {},
   "outputs": [],
   "source": [
    "#exporti\n",
    "def forecast_path_weekly_seasonal_factor(mod, k, today, period):\n",
    "    phi_mu = [np.zeros([period]) for h in range(k)]\n",
    "    phi_sigma = [np.zeros([period, period]) for h in range(k)]\n",
    "    phi_psi = [np.zeros([period, period, h]) for h in range(1, k)]\n",
    "\n",
    "    idx = np.where(np.array(mod.seasPeriods) == 7)[0][0]\n",
    "    L = mod.L[idx]\n",
    "    iseas = mod.iseas[idx]\n",
    "\n",
    "    for h in range(k):\n",
    "\n",
    "        # Get the marginal a, R\n",
    "        a, R = forecast_aR(mod, h + 1)\n",
    "\n",
    "        m, v = get_seasonal_effect_fxnl(L, a, R, iseas)\n",
    "        day = (today + h) % period\n",
    "        phi_mu[h][day] = m\n",
    "        phi_sigma[h][day, day] = v\n",
    "        # phi_mu[h], phi_sigma[h] = get_latent_factor_fxnl_old((today + h) % period, mod.L, a, R, mod.iseas, mod.seasPeriods[0])\n",
    "\n",
    "        # Find covariances with previous latent factor values\n",
    "        for j in range(h):\n",
    "            # Covariance matrix between the state vector at times j, i, i > j\n",
    "            day_j = (today + j) % period\n",
    "            cov_jh = forecast_R_cov(mod, j, h)[np.ix_(iseas, iseas)]\n",
    "            phi_psi[h-1][day, day_j, j] = phi_psi[h-1][day_j, day, j] = (L @ cov_jh @ L.T)[day, day_j]\n",
    "            # cov_ij = (np.linalg.matrix_power(mod.G, h-j) @ Rlist[j])[np.ix_(mod.iseas, mod.iseas)]\n",
    "\n",
    "    return phi_mu, phi_sigma, phi_psi"
   ]
  },
  {
   "cell_type": "code",
   "execution_count": null,
   "metadata": {},
   "outputs": [],
   "source": []
  },
  {
   "cell_type": "code",
   "execution_count": null,
   "metadata": {},
   "outputs": [],
   "source": [
    "#hide\n",
    "from nbdev.export import notebook2script\n",
    "notebook2script()"
   ]
  }
 ],
 "metadata": {
  "kernelspec": {
   "display_name": "Python 3",
   "language": "python",
   "name": "python3"
  }
 },
 "nbformat": 4,
 "nbformat_minor": 4
}
