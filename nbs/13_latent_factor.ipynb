{
 "cells": [
  {
   "cell_type": "code",
   "execution_count": null,
   "metadata": {},
   "outputs": [
    {
     "name": "stdout",
     "output_type": "stream",
     "text": [
      "The autoreload extension is already loaded. To reload it, use:\n",
      "  %reload_ext autoreload\n"
     ]
    }
   ],
   "source": [
    "%load_ext autoreload\n",
    "%autoreload 2"
   ]
  },
  {
   "cell_type": "code",
   "execution_count": null,
   "metadata": {},
   "outputs": [],
   "source": [
    "# default_exp latent_factor"
   ]
  },
  {
   "cell_type": "markdown",
   "metadata": {},
   "source": [
    "# Latent Factors\n",
    "\n",
    "> This module contains the class latent factor. A latent factor is a predictor variable which is uncertain. In this class it is defined by a mean and a variance, although in other settings it can be defined by simulated values. This evaluation is described in Lavine (2020) INSERT LINK HERE."
   ]
  },
  {
   "cell_type": "code",
   "execution_count": null,
   "metadata": {},
   "outputs": [],
   "source": [
    "#hide\n",
    "#exporti\n",
    "from functools import partial\n",
    "\n",
    "import numpy as np\n",
    "import pandas as pd\n",
    "from collections.abc import Iterable\n",
    "import copy\n",
    "import pickle\n",
    "\n",
    "from pybats_nbdev.seasonal import get_seasonal_effect_fxnl, forecast_weekly_seasonal_factor, forecast_path_weekly_seasonal_factor\n",
    "from pybats_nbdev.dbcm import dbcm\n",
    "from pybats_nbdev.dcmm import dcmm\n",
    "from pybats_nbdev.forecast import forecast_aR, forecast_R_cov\n",
    "from pybats_nbdev.dglm import dlm"
   ]
  },
  {
   "cell_type": "markdown",
   "metadata": {},
   "source": [
    "## Latent Factor Class"
   ]
  },
  {
   "cell_type": "code",
   "execution_count": null,
   "metadata": {},
   "outputs": [],
   "source": [
    "#export\n",
    "class latent_factor:\n",
    "    def __init__(self, mean=None, var=None, forecast_mean=None, forecast_var=None, forecast_cov=None, dates=None, forecast_dates=None,\n",
    "                 gen_fxn = None, gen_forecast_fxn = None, forecast_path=False):\n",
    "        self.forecast_mean = pd.Series(forecast_mean, index=forecast_dates)\n",
    "        self.forecast_var = pd.Series(forecast_var, index=forecast_dates)\n",
    "        self.forecast_cov = pd.Series(forecast_cov, index=forecast_dates)\n",
    "        self.mean = pd.Series(mean, index=dates)\n",
    "        self.var = pd.Series(var, index=dates)\n",
    "        self.dates = dates\n",
    "        self.start_date = np.min(dates)\n",
    "        self.end_date = np.max(dates)\n",
    "        self.forecast_start_date = np.min(forecast_dates)\n",
    "        self.forecast_end_date = np.max(forecast_dates)\n",
    "        self.forecast_dates = forecast_dates\n",
    "        self.mean_gen = {}\n",
    "        self.var_gen = {}\n",
    "        self.forecast_mean_gen = {}\n",
    "        self.forecast_var_gen = {}\n",
    "        self.forecast_cov_gen = {}\n",
    "        if mean is not None:\n",
    "            if len(dates) != len(mean):\n",
    "                print('Error: Dates should have the same length as the latent factor')\n",
    "            if isinstance(mean[0], Iterable):\n",
    "                self.p = len(mean[0])\n",
    "            else:\n",
    "                self.p = 1\n",
    "            self.k = len(forecast_mean[0]) # forecast length\n",
    "        self.gen_fxn = gen_fxn\n",
    "        self.gen_forecast_fxn = gen_forecast_fxn\n",
    "\n",
    "        self.forecast_path = forecast_path\n",
    "\n",
    "    def get_lf(self, date):\n",
    "        return self.mean.loc[date], self.var.loc[date]\n",
    "\n",
    "    def get_lf_forecast(self, date):\n",
    "        if self.forecast_path:\n",
    "            return self.forecast_mean.loc[date], self.forecast_var.loc[date], self.forecast_cov.loc[date]\n",
    "        else:\n",
    "            return self.forecast_mean.loc[date], self.forecast_var.loc[date]\n",
    "\n",
    "    def generate_lf(self, date, **kwargs):\n",
    "        m, v = self.gen_fxn(date, **kwargs)\n",
    "        self.mean_gen.update({date:m})\n",
    "        self.var_gen.update({date:v})\n",
    "        # m = pd.Series({date:m})\n",
    "        # v = pd.Series({date:v})\n",
    "        # self.mean = self.mean.append(m)\n",
    "        # self.var = self.var.append(v)\n",
    "\n",
    "    def generate_lf_forecast(self, date, **kwargs):\n",
    "        if self.forecast_path:\n",
    "            m, v, cov = self.gen_forecast_fxn(date, forecast_path=self.forecast_path, **kwargs)\n",
    "            self.forecast_cov_gen.update({date:cov})\n",
    "        else:\n",
    "            m, v = self.gen_forecast_fxn(date, forecast_path=self.forecast_path, **kwargs)\n",
    "\n",
    "        self.forecast_mean_gen.update({date:m})\n",
    "        self.forecast_var_gen.update({date:v})\n",
    "        # m = pd.Series({date:m})\n",
    "        # v = pd.Series({date:v})\n",
    "        # self.forecast_mean = self.forecast_mean.append(m)\n",
    "        # self.forecast_var = self.forecast_var.append(v)\n",
    "\n",
    "    def append_lf(self):\n",
    "        self.mean = self.mean.append(pd.Series(self.mean_gen))\n",
    "        self.var = self.var.append(pd.Series(self.var_gen))\n",
    "        self.mean_gen = {}\n",
    "        self.var_gen = {}\n",
    "        if isinstance(self.mean.head().values[0], Iterable):\n",
    "            self.p = len(self.mean.head().values[0])\n",
    "        else:\n",
    "            self.p = 1\n",
    "        self.start_date = np.min(self.mean.index.values)\n",
    "        self.end_date = np.max(self.mean.index.values)\n",
    "        self.dates = self.mean.index\n",
    "\n",
    "    def append_lf_forecast(self):\n",
    "        self.forecast_mean = self.forecast_mean.append(pd.Series(self.forecast_mean_gen))\n",
    "        self.forecast_var = self.forecast_var.append(pd.Series(self.forecast_var_gen))\n",
    "        self.forecast_cov = self.forecast_cov.append(pd.Series(self.forecast_cov_gen))\n",
    "        self.forecast_mean_gen = {}\n",
    "        self.forecast_var_gen = {}\n",
    "        self.forecast_cov_gen = {}\n",
    "        if isinstance(self.forecast_mean.head().values[0], Iterable):\n",
    "            self.k = len(self.forecast_mean.head().values[0])\n",
    "        else:\n",
    "            self.k = 1\n",
    "        self.forecast_start_date = np.min(self.forecast_mean.index.values)\n",
    "        self.forecast_end_date = np.max(self.forecast_mean.index.values)\n",
    "        self.forecast_dates = self.forecast_mean.index\n",
    "\n",
    "    def copy(self):\n",
    "        newlf = copy.deepcopy(self)\n",
    "\n",
    "        return newlf\n",
    "\n",
    "    def save(self, filename):\n",
    "        file = open(filename, \"wb\")\n",
    "        pickle.dump(self, file=file)"
   ]
  },
  {
   "cell_type": "markdown",
   "metadata": {},
   "source": [
    "## Multiple latent factor class"
   ]
  },
  {
   "cell_type": "code",
   "execution_count": null,
   "metadata": {},
   "outputs": [],
   "source": [
    "#export\n",
    "class multi_latent_factor(latent_factor):\n",
    "    def __init__(self, latent_factors):\n",
    "        \"\"\"\n",
    "        :param latent_factors: Tuple that contains only objects of class 'latent_factor'\n",
    "        \"\"\"\n",
    "        self.n_lf = len(latent_factors)\n",
    "        self.p = np.sum([lf.p for lf in latent_factors])\n",
    "        self.k = np.min([lf.k for lf in latent_factors])\n",
    "        self.latent_factors = latent_factors\n",
    "\n",
    "        # initialize matrices that filled in when 'get_lf' and 'get_lf_forecast' are called\n",
    "        self.mean = np.zeros(self.p)\n",
    "        self.var = np.zeros([self.p, self.p])\n",
    "        self.forecast_mean = [np.zeros(self.p) for k in range(self.k)]\n",
    "        self.forecast_var = [np.zeros([self.p, self.p]) for k in range(self.k)]\n",
    "        self.forecast_cov = [np.zeros([self.p, self.p, k]) for k in range(1, self.k)]\n",
    "\n",
    "        # Set the start and end dates\n",
    "        start_date = np.max([lf.start_date for lf in latent_factors])\n",
    "        end_date = np.min([lf.end_date for lf in latent_factors])\n",
    "        self.dates = pd.date_range(start_date, end_date)\n",
    "\n",
    "        # Set the start and end forecast dates\n",
    "        forecast_start_date = np.max([lf.forecast_start_date for lf in latent_factors])\n",
    "        forecast_end_date = np.min([lf.forecast_end_date for lf in latent_factors])\n",
    "        self.forecast_dates = pd.date_range(forecast_start_date, forecast_end_date)\n",
    "\n",
    "        if np.all([lf.forecast_path for lf in self.latent_factors]):\n",
    "            self.forecast_path = True\n",
    "        else:\n",
    "            self.forecast_path = False\n",
    "\n",
    "    def get_lf(self, date):\n",
    "        idx = 0\n",
    "        for lf in self.latent_factors:\n",
    "            m, v = lf.get_lf(date)\n",
    "            self.mean[idx:idx + lf.p] = m\n",
    "            self.var[idx:idx + lf.p, idx:idx + lf.p] = v\n",
    "            idx += lf.p\n",
    "\n",
    "        return self.mean, self.var\n",
    "\n",
    "    def get_lf_forecast(self, date):\n",
    "        idx = 0\n",
    "        if self.forecast_path:\n",
    "            for lf in self.latent_factors:\n",
    "\n",
    "                f_m, f_v, f_c = lf.get_lf_forecast(date)\n",
    "                for k, [m, v] in enumerate(zip(f_m, f_v)):\n",
    "                    self.forecast_mean[k][idx:idx + lf.p] = m\n",
    "                    self.forecast_var[k][idx:idx + lf.p, idx:idx + lf.p] = v\n",
    "                    if k > 0:\n",
    "                        self.forecast_cov[k - 1][idx:idx + lf.p, idx:idx + lf.p, :] = f_c[k-1]\n",
    "                idx += lf.p\n",
    "            return self.forecast_mean, self.forecast_var, self.forecast_cov\n",
    "\n",
    "        else:\n",
    "            for lf in self.latent_factors:\n",
    "                f_m, f_v = lf.get_lf_forecast(date)\n",
    "                for k, [m, v] in enumerate(zip(f_m, f_v)):\n",
    "                    self.forecast_mean[k][idx:idx + lf.p] = m\n",
    "                    self.forecast_var[k][idx:idx + lf.p, idx:idx + lf.p] = v\n",
    "                idx += lf.p\n",
    "            return self.forecast_mean, self.forecast_var\n",
    "\n",
    "\n",
    "    def copy(self):\n",
    "\n",
    "        new_lfs = []\n",
    "        for lf in self.latent_factors:\n",
    "\n",
    "            new_lfs.append(lf.copy())\n",
    "\n",
    "        return multi_latent_factor(new_lfs)\n",
    "\n",
    "    def add_latent_factor(self, latent_factor):\n",
    "        \"\"\"\n",
    "        :param latent_factor: A new latent factor to be added to the multi_latent_factor\n",
    "        :return:\n",
    "        \"\"\"\n",
    "        # Append the new latent_factor on\n",
    "        self.latent_factors.append(latent_factor)\n",
    "\n",
    "        self.n_lf = len(self.latent_factors)\n",
    "        self.p = np.sum([lf.p for lf in self.latent_factors])\n",
    "        self.k = np.min([lf.k for lf in self.latent_factors])\n",
    "\n",
    "        # initialize matrices that filled in when 'get_lf' and 'get_lf_forecast' are called\n",
    "        self.mean = np.zeros(self.p)\n",
    "        self.var = np.zeros([self.p, self.p])\n",
    "        self.forecast_mean = [np.zeros(self.p) for k in range(self.k)]\n",
    "        self.forecast_var = [np.zeros([self.p, self.p]) for k in range(self.k)]\n",
    "        self.forecast_cov = [np.zeros([self.p, self.p, k]) for k in range(1, self.k)]\n",
    "\n",
    "        # Set the start and end dates\n",
    "        start_date = np.max([lf.start_date for lf in self.latent_factors])\n",
    "        end_date = np.min([lf.end_date for lf in self.latent_factors])\n",
    "        self.dates = pd.date_range(start_date, end_date)\n",
    "\n",
    "        # Set the start and end forecast dates\n",
    "        forecast_start_date = np.max([lf.forecast_start_date for lf in self.latent_factors])\n",
    "        forecast_end_date = np.min([lf.forecast_end_date for lf in self.latent_factors])\n",
    "        self.forecast_dates = pd.date_range(forecast_start_date, forecast_end_date)\n",
    "\n",
    "    def drop_latent_factor(self, idx):\n",
    "        \"\"\"\n",
    "        :param idx: Index of the latent factor to drop\n",
    "        :return:\n",
    "        \"\"\"\n",
    "        # Append the new latent_factor on\n",
    "        self.latent_factors.pop(idx)\n",
    "\n",
    "        self.n_lf = len(self.latent_factors)\n",
    "        self.p = np.sum([lf.p for lf in self.latent_factors])\n",
    "        self.k = np.min([lf.k for lf in self.latent_factors])\n",
    "\n",
    "        # initialize matrices that filled in when 'get_lf' and 'get_lf_forecast' are called\n",
    "        self.mean = np.zeros(self.p)\n",
    "        self.var = np.zeros([self.p, self.p])\n",
    "        self.forecast_mean = [np.zeros(self.p) for k in range(self.k)]\n",
    "        self.forecast_var = [np.zeros([self.p, self.p]) for k in range(self.k)]\n",
    "        self.forecast_cov = [np.zeros([self.p, self.p, k]) for k in range(1, self.k)]\n",
    "\n",
    "        # Set the start and end dates\n",
    "        start_date = np.max([lf.start_date for lf in self.latent_factors])\n",
    "        end_date = np.min([lf.end_date for lf in self.latent_factors])\n",
    "        self.dates = pd.date_range(start_date, end_date)\n",
    "\n",
    "        # Set the start and end forecast dates\n",
    "        forecast_start_date = np.max([lf.forecast_start_date for lf in self.latent_factors])\n",
    "        forecast_end_date = np.min([lf.forecast_end_date for lf in self.latent_factors])\n",
    "        self.forecast_dates = pd.date_range(forecast_start_date, forecast_end_date)\n",
    "\n",
    "    def save(self, filename):\n",
    "        file = open(filename, \"wb\")\n",
    "        pickle.dump(self, file=file)"
   ]
  },
  {
   "cell_type": "markdown",
   "metadata": {},
   "source": [
    "## Common Latent Factors"
   ]
  },
  {
   "cell_type": "markdown",
   "metadata": {},
   "source": [
    "### Holiday latent factor"
   ]
  },
  {
   "cell_type": "code",
   "execution_count": null,
   "metadata": {},
   "outputs": [],
   "source": [
    "#export\n",
    "def hol_fxn(date, mod, X, **kwargs):\n",
    "    is_hol = np.any(X[-mod.nhol:] != 0)\n",
    "    mean = np.zeros(mod.nhol)\n",
    "    var = np.zeros([mod.nhol, mod.nhol])\n",
    "    if is_hol:\n",
    "        idx = np.where(X[-mod.nhol:] != 0)[0][0]\n",
    "        mean[idx] = X[-mod.nhol:] @ mod.m[mod.ihol]\n",
    "        var[idx, idx] = X[-mod.nhol:] @ mod.C[np.ix_(mod.ihol, mod.ihol)] @ X[-mod.nhol:]\n",
    "\n",
    "    return mean, var"
   ]
  },
  {
   "cell_type": "code",
   "execution_count": null,
   "metadata": {},
   "outputs": [],
   "source": [
    "#export\n",
    "def hol_forecast_fxn(date, mod, X, k, horizons, forecast_path=False, **kwargs):\n",
    "\n",
    "    future_holiday_eff = list(map(lambda X, k: forecast_holiday_effect_dlm(mod, X, k),\n",
    "                                  X[:, -mod.nhol:], horizons))\n",
    "    hol_mean = [np.zeros(mod.nhol) for h in range(k)]\n",
    "    hol_var = [np.zeros([mod.nhol, mod.nhol]) for h in range(k)]\n",
    "\n",
    "    if forecast_path:\n",
    "        hol_cov = [np.zeros([mod.nhol, mod.nhol, h]) for h in range(1, k)]\n",
    "        nonzero_holidays = {}\n",
    "\n",
    "        for h in range(k):\n",
    "            if future_holiday_eff[h][0] != 0:\n",
    "                idx = np.where(X[h, -mod.nhol:] != 0)[0][0]\n",
    "                hol_mean[h][idx] = future_holiday_eff[h][0]\n",
    "                hol_var[h][idx, idx] = future_holiday_eff[h][1]\n",
    "\n",
    "                for j, idx_j in nonzero_holidays.items():\n",
    "                    hol_cov[h-1][idx, idx_j, j] = hol_cov[h-1][idx_j, idx, j] = X[j, -mod.nhol:] @ forecast_R_cov(mod, j, h)[np.ix_(mod.ihol, mod.ihol)] @ X[h, -mod.nhol:].T\n",
    "\n",
    "                nonzero_holidays.update({h:idx})\n",
    "\n",
    "        return hol_mean, hol_var, hol_cov\n",
    "\n",
    "    else:\n",
    "        for h in range(k):\n",
    "            if future_holiday_eff[h][0] != 0:\n",
    "                idx = np.where(X[h, -mod.nhol:] != 0)[0][0]\n",
    "                hol_mean[h][idx] = future_holiday_eff[h][0]\n",
    "                hol_var[h][idx, idx] = future_holiday_eff[h][1]\n",
    "\n",
    "\n",
    "        return hol_mean, hol_var"
   ]
  },
  {
   "cell_type": "code",
   "execution_count": null,
   "metadata": {},
   "outputs": [
    {
     "name": "stderr",
     "output_type": "stream",
     "text": [
      "/Users/isaaclavine/opt/anaconda3/envs/pybats/lib/python3.7/site-packages/ipykernel_launcher.py:5: DeprecationWarning: The default dtype for empty Series will be 'object' instead of 'float64' in a future version. Specify a dtype explicitly to silence this warning.\n",
      "  \"\"\"\n",
      "/Users/isaaclavine/opt/anaconda3/envs/pybats/lib/python3.7/site-packages/ipykernel_launcher.py:6: DeprecationWarning: The default dtype for empty Series will be 'object' instead of 'float64' in a future version. Specify a dtype explicitly to silence this warning.\n",
      "  \n",
      "/Users/isaaclavine/opt/anaconda3/envs/pybats/lib/python3.7/site-packages/ipykernel_launcher.py:7: DeprecationWarning: The default dtype for empty Series will be 'object' instead of 'float64' in a future version. Specify a dtype explicitly to silence this warning.\n",
      "  import sys\n",
      "/Users/isaaclavine/opt/anaconda3/envs/pybats/lib/python3.7/site-packages/ipykernel_launcher.py:8: DeprecationWarning: The default dtype for empty Series will be 'object' instead of 'float64' in a future version. Specify a dtype explicitly to silence this warning.\n",
      "  \n",
      "/Users/isaaclavine/opt/anaconda3/envs/pybats/lib/python3.7/site-packages/ipykernel_launcher.py:9: DeprecationWarning: The default dtype for empty Series will be 'object' instead of 'float64' in a future version. Specify a dtype explicitly to silence this warning.\n",
      "  if __name__ == '__main__':\n"
     ]
    }
   ],
   "source": [
    "#export\n",
    "hol_lf = latent_factor(gen_fxn = hol_fxn, gen_forecast_fxn=hol_forecast_fxn)"
   ]
  },
  {
   "cell_type": "markdown",
   "metadata": {},
   "source": [
    "### Y (outcome) latent factor"
   ]
  },
  {
   "cell_type": "code",
   "execution_count": null,
   "metadata": {},
   "outputs": [],
   "source": [
    "#export\n",
    "def Y_fxn(date, mod, Y, **kwargs):\n",
    "    return Y, 0"
   ]
  },
  {
   "cell_type": "code",
   "execution_count": null,
   "metadata": {},
   "outputs": [],
   "source": [
    "#export\n",
    "def Y_forecast_fxn(date, mod, X, k, nsamps, horizons, forecast_path = False, **kwargs):\n",
    "    #\n",
    "    # Y_mean = [f.mean() for f in forecast]\n",
    "\n",
    "    if forecast_path:\n",
    "        # if isinstance(mod, dlm):\n",
    "        #     mean, var = mod.forecast_path(k=k, X=X, nsamps=nsamps, mean_var = True)\n",
    "        #     Y_mean = [m for m in mean]\n",
    "        #     Y_var = [v for v in var.diagonal()]\n",
    "        #     Y_cov = [var[h,:h].reshape(1,1,h) for h in range(1, k)]\n",
    "        # else:\n",
    "            # print('error')\n",
    "        forecast = mod.forecast_path(k=k, X=X, nsamps=nsamps)\n",
    "        Y_mean = [m for m in forecast.mean(axis=0)]\n",
    "        cov = np.cov(forecast, rowvar=False)\n",
    "        Y_var = [v for v in forecast.var(axis=0)]\n",
    "        Y_cov = [cov[h,:h].reshape(1, 1, -1) for h in range(1, k)]\n",
    "\n",
    "        return Y_mean, Y_var, Y_cov\n",
    "\n",
    "    else:\n",
    "        forecast = list(map(lambda X, k: mod.forecast_marginal(k=k, X=X, nsamps=nsamps),\n",
    "                            X,\n",
    "                            horizons))\n",
    "        Y_mean = list(map(lambda X, k: mod.forecast_marginal(k=k, X=X, mean_only=True),\n",
    "                          X,\n",
    "                          horizons))\n",
    "        Y_var = [f.var() for f in forecast]\n",
    "        return Y_mean, Y_var"
   ]
  },
  {
   "cell_type": "code",
   "execution_count": null,
   "metadata": {},
   "outputs": [
    {
     "name": "stderr",
     "output_type": "stream",
     "text": [
      "/Users/isaaclavine/opt/anaconda3/envs/pybats/lib/python3.7/site-packages/ipykernel_launcher.py:5: DeprecationWarning: The default dtype for empty Series will be 'object' instead of 'float64' in a future version. Specify a dtype explicitly to silence this warning.\n",
      "  \"\"\"\n",
      "/Users/isaaclavine/opt/anaconda3/envs/pybats/lib/python3.7/site-packages/ipykernel_launcher.py:6: DeprecationWarning: The default dtype for empty Series will be 'object' instead of 'float64' in a future version. Specify a dtype explicitly to silence this warning.\n",
      "  \n",
      "/Users/isaaclavine/opt/anaconda3/envs/pybats/lib/python3.7/site-packages/ipykernel_launcher.py:7: DeprecationWarning: The default dtype for empty Series will be 'object' instead of 'float64' in a future version. Specify a dtype explicitly to silence this warning.\n",
      "  import sys\n",
      "/Users/isaaclavine/opt/anaconda3/envs/pybats/lib/python3.7/site-packages/ipykernel_launcher.py:8: DeprecationWarning: The default dtype for empty Series will be 'object' instead of 'float64' in a future version. Specify a dtype explicitly to silence this warning.\n",
      "  \n",
      "/Users/isaaclavine/opt/anaconda3/envs/pybats/lib/python3.7/site-packages/ipykernel_launcher.py:9: DeprecationWarning: The default dtype for empty Series will be 'object' instead of 'float64' in a future version. Specify a dtype explicitly to silence this warning.\n",
      "  if __name__ == '__main__':\n"
     ]
    }
   ],
   "source": [
    "#export\n",
    "Y_lf = latent_factor(gen_fxn = Y_fxn, gen_forecast_fxn = Y_forecast_fxn)"
   ]
  },
  {
   "cell_type": "code",
   "execution_count": null,
   "metadata": {},
   "outputs": [],
   "source": [
    "#exporti\n",
    "# This is a good idea, but note that it does not work with the set analysis fxns,\n",
    "# This forecast must happen BEFORE updating, not after\n",
    "def Y_update_via_forecast_fxn(date, mod, X, nsamps=200, **kwargs):\n",
    "    mean = mod.forecast_marginal(k=1, X=X, mean_only=True)\n",
    "    forecast = mod.forecast_marginal(k=1, X=X)\n",
    "    return mean, forecast.var()"
   ]
  },
  {
   "cell_type": "code",
   "execution_count": null,
   "metadata": {},
   "outputs": [
    {
     "name": "stderr",
     "output_type": "stream",
     "text": [
      "/Users/isaaclavine/opt/anaconda3/envs/pybats/lib/python3.7/site-packages/ipykernel_launcher.py:5: DeprecationWarning: The default dtype for empty Series will be 'object' instead of 'float64' in a future version. Specify a dtype explicitly to silence this warning.\n",
      "  \"\"\"\n",
      "/Users/isaaclavine/opt/anaconda3/envs/pybats/lib/python3.7/site-packages/ipykernel_launcher.py:6: DeprecationWarning: The default dtype for empty Series will be 'object' instead of 'float64' in a future version. Specify a dtype explicitly to silence this warning.\n",
      "  \n",
      "/Users/isaaclavine/opt/anaconda3/envs/pybats/lib/python3.7/site-packages/ipykernel_launcher.py:7: DeprecationWarning: The default dtype for empty Series will be 'object' instead of 'float64' in a future version. Specify a dtype explicitly to silence this warning.\n",
      "  import sys\n",
      "/Users/isaaclavine/opt/anaconda3/envs/pybats/lib/python3.7/site-packages/ipykernel_launcher.py:8: DeprecationWarning: The default dtype for empty Series will be 'object' instead of 'float64' in a future version. Specify a dtype explicitly to silence this warning.\n",
      "  \n",
      "/Users/isaaclavine/opt/anaconda3/envs/pybats/lib/python3.7/site-packages/ipykernel_launcher.py:9: DeprecationWarning: The default dtype for empty Series will be 'object' instead of 'float64' in a future version. Specify a dtype explicitly to silence this warning.\n",
      "  if __name__ == '__main__':\n"
     ]
    }
   ],
   "source": [
    "#exporti\n",
    "Y_forecast_lf = latent_factor(gen_fxn = Y_update_via_forecast_fxn, gen_forecast_fxn = Y_forecast_fxn)"
   ]
  },
  {
   "cell_type": "markdown",
   "metadata": {},
   "source": [
    "### Weekly seasonal latent factor"
   ]
  },
  {
   "cell_type": "code",
   "execution_count": null,
   "metadata": {},
   "outputs": [],
   "source": [
    "#export\n",
    "def seas_weekly_fxn(date, mod, **kwargs):\n",
    "    period = 7\n",
    "    seas_idx = np.where(np.array(mod.seasPeriods) == 7)[0][0]\n",
    "    today = date.dayofweek\n",
    "    m, v = get_seasonal_effect_fxnl(mod.L[seas_idx], mod.m, mod.C, mod.iseas[seas_idx])\n",
    "    weekly_seas_mean = np.zeros(period)\n",
    "    weekly_seas_var = np.zeros([period, period])\n",
    "    weekly_seas_mean[today] = m\n",
    "    weekly_seas_var[today, today] = v\n",
    "\n",
    "    return weekly_seas_mean, weekly_seas_var"
   ]
  },
  {
   "cell_type": "code",
   "execution_count": null,
   "metadata": {},
   "outputs": [],
   "source": [
    "#export\n",
    "def seas_weekly_forecast_fxn(date, mod, k, horizons, forecast_path=False, **kwargs):\n",
    "    period = 7\n",
    "    today = date.dayofweek\n",
    "\n",
    "    if isinstance(mod, dlm):\n",
    "        rt = mod.n / (mod.n-2)\n",
    "    else:\n",
    "        rt = 1\n",
    "\n",
    "    if forecast_path:\n",
    "        weekly_seas_mean, weekly_seas_var, weekly_seas_cov = forecast_path_weekly_seasonal_factor(mod, k, today, period)\n",
    "        return weekly_seas_mean,  [rt * wsv for wsv in weekly_seas_var], [rt * wsc for wsc in weekly_seas_cov]\n",
    "    else:\n",
    "\n",
    "        # Place the weekly seasonal factor into the correct spot in a length 7 vector\n",
    "        future_weekly_seas = list(map(lambda k: forecast_weekly_seasonal_factor(mod, k=k),\n",
    "                                      horizons))\n",
    "        weekly_seas_mean = [np.zeros(period) for i in range(k)]\n",
    "        weekly_seas_var = [np.zeros([period, period]) for i in range(k)]\n",
    "        for i in range(k):\n",
    "            day = (today + i) % period\n",
    "            weekly_seas_mean[i][day] = future_weekly_seas[i][0]\n",
    "            weekly_seas_var[i][day, day] = future_weekly_seas[i][1]\n",
    "\n",
    "        return weekly_seas_mean, [rt * wsv for wsv in weekly_seas_var]"
   ]
  },
  {
   "cell_type": "code",
   "execution_count": null,
   "metadata": {},
   "outputs": [
    {
     "name": "stderr",
     "output_type": "stream",
     "text": [
      "/Users/isaaclavine/opt/anaconda3/envs/pybats/lib/python3.7/site-packages/ipykernel_launcher.py:5: DeprecationWarning: The default dtype for empty Series will be 'object' instead of 'float64' in a future version. Specify a dtype explicitly to silence this warning.\n",
      "  \"\"\"\n",
      "/Users/isaaclavine/opt/anaconda3/envs/pybats/lib/python3.7/site-packages/ipykernel_launcher.py:6: DeprecationWarning: The default dtype for empty Series will be 'object' instead of 'float64' in a future version. Specify a dtype explicitly to silence this warning.\n",
      "  \n",
      "/Users/isaaclavine/opt/anaconda3/envs/pybats/lib/python3.7/site-packages/ipykernel_launcher.py:7: DeprecationWarning: The default dtype for empty Series will be 'object' instead of 'float64' in a future version. Specify a dtype explicitly to silence this warning.\n",
      "  import sys\n",
      "/Users/isaaclavine/opt/anaconda3/envs/pybats/lib/python3.7/site-packages/ipykernel_launcher.py:8: DeprecationWarning: The default dtype for empty Series will be 'object' instead of 'float64' in a future version. Specify a dtype explicitly to silence this warning.\n",
      "  \n",
      "/Users/isaaclavine/opt/anaconda3/envs/pybats/lib/python3.7/site-packages/ipykernel_launcher.py:9: DeprecationWarning: The default dtype for empty Series will be 'object' instead of 'float64' in a future version. Specify a dtype explicitly to silence this warning.\n",
      "  if __name__ == '__main__':\n"
     ]
    }
   ],
   "source": [
    "#export\n",
    "seas_weekly_lf = latent_factor(gen_fxn = seas_weekly_fxn, gen_forecast_fxn=seas_weekly_forecast_fxn)"
   ]
  },
  {
   "cell_type": "markdown",
   "metadata": {},
   "source": [
    "### Poisson DGLM Coefficient"
   ]
  },
  {
   "cell_type": "code",
   "execution_count": null,
   "metadata": {},
   "outputs": [],
   "source": [
    "#export\n",
    "def pois_coef_fxn(date, mod, idx = None, **kwargs):\n",
    "    if type(mod) == dbcm:\n",
    "        if idx is None:\n",
    "            idx = np.arange(0, len(mod.dcmm.pois_mod.m))\n",
    "\n",
    "        return mod.dcmm.pois_mod.m[idx].copy().reshape(-1), mod.dcmm.pois_mod.C[np.ix_(idx, idx)].copy()\n",
    "    if type(mod) == dcmm:\n",
    "        if idx is None:\n",
    "            idx = np.arange(0, len(mod.pois_mod.m))\n",
    "\n",
    "        return mod.pois_mod.m[idx].copy().reshape(-1), mod.pois_mod.C[np.ix_(idx, idx)].copy()"
   ]
  },
  {
   "cell_type": "code",
   "execution_count": null,
   "metadata": {},
   "outputs": [],
   "source": [
    "#export\n",
    "def pois_coef_forecast_fxn(date, mod, k, idx=None, **kwargs):\n",
    "    if type(mod) == dbcm:\n",
    "        if idx is None:\n",
    "            idx = np.arange(0, len(mod.dcmm.pois_mod.m))\n",
    "\n",
    "        pois_coef_mean = []\n",
    "        pois_coef_var = []\n",
    "        for j in range(1, k + 1):\n",
    "            a, R = forecast_aR(mod.dcmm.pois_mod, j)\n",
    "            pois_coef_mean.append(a[idx].copy().reshape(-1))\n",
    "            pois_coef_var.append(R[np.ix_(idx, idx)].copy())\n",
    "        return pois_coef_mean, pois_coef_var\n",
    "    if type(mod) == dcmm:\n",
    "        if idx is None:\n",
    "            idx = np.arange(0, len(mod.pois_mod.m))\n",
    "\n",
    "        pois_coef_mean = []\n",
    "        pois_coef_var = []\n",
    "        for j in range(1, k + 1):\n",
    "            a, R = forecast_aR(mod.pois_mod, j)\n",
    "            pois_coef_mean.append(a[idx].copy().reshape(-1))\n",
    "            pois_coef_var.append(R[np.ix_(idx, idx)].copy())\n",
    "        return pois_coef_mean, pois_coef_var"
   ]
  },
  {
   "cell_type": "code",
   "execution_count": null,
   "metadata": {},
   "outputs": [
    {
     "name": "stderr",
     "output_type": "stream",
     "text": [
      "/Users/isaaclavine/opt/anaconda3/envs/pybats/lib/python3.7/site-packages/ipykernel_launcher.py:5: DeprecationWarning: The default dtype for empty Series will be 'object' instead of 'float64' in a future version. Specify a dtype explicitly to silence this warning.\n",
      "  \"\"\"\n",
      "/Users/isaaclavine/opt/anaconda3/envs/pybats/lib/python3.7/site-packages/ipykernel_launcher.py:6: DeprecationWarning: The default dtype for empty Series will be 'object' instead of 'float64' in a future version. Specify a dtype explicitly to silence this warning.\n",
      "  \n",
      "/Users/isaaclavine/opt/anaconda3/envs/pybats/lib/python3.7/site-packages/ipykernel_launcher.py:7: DeprecationWarning: The default dtype for empty Series will be 'object' instead of 'float64' in a future version. Specify a dtype explicitly to silence this warning.\n",
      "  import sys\n",
      "/Users/isaaclavine/opt/anaconda3/envs/pybats/lib/python3.7/site-packages/ipykernel_launcher.py:8: DeprecationWarning: The default dtype for empty Series will be 'object' instead of 'float64' in a future version. Specify a dtype explicitly to silence this warning.\n",
      "  \n",
      "/Users/isaaclavine/opt/anaconda3/envs/pybats/lib/python3.7/site-packages/ipykernel_launcher.py:9: DeprecationWarning: The default dtype for empty Series will be 'object' instead of 'float64' in a future version. Specify a dtype explicitly to silence this warning.\n",
      "  if __name__ == '__main__':\n"
     ]
    }
   ],
   "source": [
    "#export\n",
    "pois_coef_lf = latent_factor(gen_fxn = pois_coef_fxn, gen_forecast_fxn=pois_coef_forecast_fxn)"
   ]
  },
  {
   "cell_type": "markdown",
   "metadata": {},
   "source": [
    "### Bernoulli DGLM Coefficient"
   ]
  },
  {
   "cell_type": "code",
   "execution_count": null,
   "metadata": {},
   "outputs": [],
   "source": [
    "#export\n",
    "def bern_coef_fxn(date, mod, idx = None, **kwargs):\n",
    "    if type(mod) == dbcm:\n",
    "        if idx is None:\n",
    "            idx = np.arange(0, len(mod.dcmm.bern_mod.m))\n",
    "\n",
    "        return mod.dcmm.bern_mod.m[idx].copy().reshape(-1), mod.dcmm.bern_mod.C[np.ix_(idx, idx)].copy()\n",
    "    if type(mod) == dcmm:\n",
    "        if idx is None:\n",
    "            idx = np.arange(0, len(mod.bern_mod.m))\n",
    "\n",
    "        return mod.bern_mod.m[idx].copy().reshape(-1), mod.bern_mod.C[np.ix_(idx, idx)].copy()"
   ]
  },
  {
   "cell_type": "code",
   "execution_count": null,
   "metadata": {},
   "outputs": [],
   "source": [
    "#export\n",
    "def bern_coef_forecast_fxn(date, mod, k, idx = None, **kwargs):\n",
    "    if type(mod) == dbcm:\n",
    "        if idx is None:\n",
    "            idx = np.arange(0, len(mod.dcmm.bern_mod.m))\n",
    "\n",
    "        bern_coef_mean = []\n",
    "        bern_coef_var = []\n",
    "        for j in range(1, k + 1):\n",
    "            a, R = forecast_aR(mod.dcmm.bern_mod, j)\n",
    "            bern_coef_mean.append(a[idx].copy().reshape(-1))\n",
    "            bern_coef_var.append(R[np.ix_(idx, idx)].copy())\n",
    "        return bern_coef_mean, bern_coef_var\n",
    "\n",
    "    if type(mod) == dcmm:\n",
    "        if idx is None:\n",
    "            idx = np.arange(0, len(mod.bern_mod.m))\n",
    "\n",
    "        bern_coef_mean = []\n",
    "        bern_coef_var = []\n",
    "        for j in range(1, k + 1):\n",
    "            a, R = forecast_aR(mod.dcmm.bern_mod, j)\n",
    "            bern_coef_mean.append(a[idx].copy().reshape(-1))\n",
    "            bern_coef_var.append(R[np.ix_(idx, idx)].copy())\n",
    "        return bern_coef_mean, bern_coef_var"
   ]
  },
  {
   "cell_type": "code",
   "execution_count": null,
   "metadata": {},
   "outputs": [
    {
     "name": "stderr",
     "output_type": "stream",
     "text": [
      "/Users/isaaclavine/opt/anaconda3/envs/pybats/lib/python3.7/site-packages/ipykernel_launcher.py:5: DeprecationWarning: The default dtype for empty Series will be 'object' instead of 'float64' in a future version. Specify a dtype explicitly to silence this warning.\n",
      "  \"\"\"\n",
      "/Users/isaaclavine/opt/anaconda3/envs/pybats/lib/python3.7/site-packages/ipykernel_launcher.py:6: DeprecationWarning: The default dtype for empty Series will be 'object' instead of 'float64' in a future version. Specify a dtype explicitly to silence this warning.\n",
      "  \n",
      "/Users/isaaclavine/opt/anaconda3/envs/pybats/lib/python3.7/site-packages/ipykernel_launcher.py:7: DeprecationWarning: The default dtype for empty Series will be 'object' instead of 'float64' in a future version. Specify a dtype explicitly to silence this warning.\n",
      "  import sys\n",
      "/Users/isaaclavine/opt/anaconda3/envs/pybats/lib/python3.7/site-packages/ipykernel_launcher.py:8: DeprecationWarning: The default dtype for empty Series will be 'object' instead of 'float64' in a future version. Specify a dtype explicitly to silence this warning.\n",
      "  \n",
      "/Users/isaaclavine/opt/anaconda3/envs/pybats/lib/python3.7/site-packages/ipykernel_launcher.py:9: DeprecationWarning: The default dtype for empty Series will be 'object' instead of 'float64' in a future version. Specify a dtype explicitly to silence this warning.\n",
      "  if __name__ == '__main__':\n"
     ]
    }
   ],
   "source": [
    "#export\n",
    "bern_coef_lf = latent_factor(gen_fxn=bern_coef_fxn, gen_forecast_fxn=bern_coef_forecast_fxn)"
   ]
  },
  {
   "cell_type": "markdown",
   "metadata": {},
   "source": [
    "### Normal DLM Coefficient "
   ]
  },
  {
   "cell_type": "code",
   "execution_count": null,
   "metadata": {},
   "outputs": [],
   "source": [
    "#export\n",
    "def dlm_coef_fxn(date, mod, idx = None, **kwargs):\n",
    "    if idx is None:\n",
    "        idx = np.arange(0, len(mod.m))\n",
    "\n",
    "    return mod.m[idx].copy().reshape(-1), mod.C[np.ix_(idx, idx)].copy()"
   ]
  },
  {
   "cell_type": "code",
   "execution_count": null,
   "metadata": {},
   "outputs": [],
   "source": [
    "#export\n",
    "def dlm_coef_forecast_fxn(date, mod, k, idx=None, forecast_path=False, **kwargs):\n",
    "    if idx is None:\n",
    "        idx = np.arange(0, len(mod.m))\n",
    "\n",
    "    p = len(idx)\n",
    "\n",
    "    dlm_coef_mean = []\n",
    "    dlm_coef_var = []\n",
    "    if forecast_path:\n",
    "        dlm_coef_cov = [np.zeros([p, p, h]) for h in range(1, k)]\n",
    "\n",
    "    for j in range(1, k + 1):\n",
    "        a, R = forecast_aR(mod, j)\n",
    "        dlm_coef_mean.append(a[idx].copy().reshape(-1))\n",
    "        dlm_coef_var.append(R[np.ix_(idx, idx)].copy())\n",
    "\n",
    "        if forecast_path:\n",
    "            if j > 1:\n",
    "                for i in range(1, j):\n",
    "                    dlm_coef_cov[j-2][:,:,i-1] = forecast_R_cov(mod, i, j)[np.ix_(idx, idx)]\n",
    "\n",
    "    if forecast_path:\n",
    "        return dlm_coef_mean, dlm_coef_var, dlm_coef_cov\n",
    "    else:\n",
    "        return dlm_coef_mean, dlm_coef_var"
   ]
  },
  {
   "cell_type": "code",
   "execution_count": null,
   "metadata": {},
   "outputs": [
    {
     "name": "stderr",
     "output_type": "stream",
     "text": [
      "/Users/isaaclavine/opt/anaconda3/envs/pybats/lib/python3.7/site-packages/ipykernel_launcher.py:5: DeprecationWarning: The default dtype for empty Series will be 'object' instead of 'float64' in a future version. Specify a dtype explicitly to silence this warning.\n",
      "  \"\"\"\n",
      "/Users/isaaclavine/opt/anaconda3/envs/pybats/lib/python3.7/site-packages/ipykernel_launcher.py:6: DeprecationWarning: The default dtype for empty Series will be 'object' instead of 'float64' in a future version. Specify a dtype explicitly to silence this warning.\n",
      "  \n",
      "/Users/isaaclavine/opt/anaconda3/envs/pybats/lib/python3.7/site-packages/ipykernel_launcher.py:7: DeprecationWarning: The default dtype for empty Series will be 'object' instead of 'float64' in a future version. Specify a dtype explicitly to silence this warning.\n",
      "  import sys\n",
      "/Users/isaaclavine/opt/anaconda3/envs/pybats/lib/python3.7/site-packages/ipykernel_launcher.py:8: DeprecationWarning: The default dtype for empty Series will be 'object' instead of 'float64' in a future version. Specify a dtype explicitly to silence this warning.\n",
      "  \n",
      "/Users/isaaclavine/opt/anaconda3/envs/pybats/lib/python3.7/site-packages/ipykernel_launcher.py:9: DeprecationWarning: The default dtype for empty Series will be 'object' instead of 'float64' in a future version. Specify a dtype explicitly to silence this warning.\n",
      "  if __name__ == '__main__':\n"
     ]
    }
   ],
   "source": [
    "#export\n",
    "dlm_coef_lf = latent_factor(gen_fxn = dlm_coef_fxn, gen_forecast_fxn=dlm_coef_forecast_fxn)"
   ]
  },
  {
   "cell_type": "markdown",
   "metadata": {},
   "source": [
    "### Normal DLM degrees of freedom"
   ]
  },
  {
   "cell_type": "code",
   "execution_count": null,
   "metadata": {},
   "outputs": [],
   "source": [
    "#export\n",
    "def dlm_dof_fxn(date, mod, **kwargs):\n",
    "    return mod.n, 0"
   ]
  },
  {
   "cell_type": "code",
   "execution_count": null,
   "metadata": {},
   "outputs": [],
   "source": [
    "#export\n",
    "def dlm_dof_forecast_fxn(date, mod, k, **kwargs):\n",
    "    return [mod.n for x in range(k)], [0 for x in range(k)]"
   ]
  },
  {
   "cell_type": "code",
   "execution_count": null,
   "metadata": {},
   "outputs": [
    {
     "name": "stderr",
     "output_type": "stream",
     "text": [
      "/Users/isaaclavine/opt/anaconda3/envs/pybats/lib/python3.7/site-packages/ipykernel_launcher.py:5: DeprecationWarning: The default dtype for empty Series will be 'object' instead of 'float64' in a future version. Specify a dtype explicitly to silence this warning.\n",
      "  \"\"\"\n",
      "/Users/isaaclavine/opt/anaconda3/envs/pybats/lib/python3.7/site-packages/ipykernel_launcher.py:6: DeprecationWarning: The default dtype for empty Series will be 'object' instead of 'float64' in a future version. Specify a dtype explicitly to silence this warning.\n",
      "  \n",
      "/Users/isaaclavine/opt/anaconda3/envs/pybats/lib/python3.7/site-packages/ipykernel_launcher.py:7: DeprecationWarning: The default dtype for empty Series will be 'object' instead of 'float64' in a future version. Specify a dtype explicitly to silence this warning.\n",
      "  import sys\n",
      "/Users/isaaclavine/opt/anaconda3/envs/pybats/lib/python3.7/site-packages/ipykernel_launcher.py:8: DeprecationWarning: The default dtype for empty Series will be 'object' instead of 'float64' in a future version. Specify a dtype explicitly to silence this warning.\n",
      "  \n",
      "/Users/isaaclavine/opt/anaconda3/envs/pybats/lib/python3.7/site-packages/ipykernel_launcher.py:9: DeprecationWarning: The default dtype for empty Series will be 'object' instead of 'float64' in a future version. Specify a dtype explicitly to silence this warning.\n",
      "  if __name__ == '__main__':\n"
     ]
    }
   ],
   "source": [
    "#export\n",
    "dlm_dof_lf = latent_factor(gen_fxn = dlm_dof_fxn, gen_forecast_fxn=dlm_dof_forecast_fxn)"
   ]
  },
  {
   "cell_type": "markdown",
   "metadata": {},
   "source": [
    "### Helper Functions"
   ]
  },
  {
   "cell_type": "code",
   "execution_count": null,
   "metadata": {},
   "outputs": [],
   "source": [
    "#exporti\n",
    "def copy_fxn(date, latent_factor):\n",
    "    s = latent_factor.get_lf(date)\n",
    "    return copy.deepcopy(s[0]), copy.deepcopy(s[1])"
   ]
  },
  {
   "cell_type": "code",
   "execution_count": null,
   "metadata": {},
   "outputs": [],
   "source": [
    "#exporti\n",
    "def copy_forecast_fxn(date, latent_factor):\n",
    "    means = []\n",
    "    vars = []\n",
    "    ms, vs = latent_factor.get_lf_forecast(date)\n",
    "    for h in range(latent_factor.k):\n",
    "        means.append(copy.deepcopy(ms[h]))\n",
    "        vars.append(copy.deepcopy(vs[h]))\n",
    "    return means, vars"
   ]
  },
  {
   "cell_type": "code",
   "execution_count": null,
   "metadata": {},
   "outputs": [],
   "source": [
    "#export\n",
    "def merge_fxn(date, latent_factors, **kwargs):\n",
    "    if latent_factors[0].p == 1:\n",
    "        m = np.array([float(lf.get_lf(date)[0]) for lf in latent_factors])\n",
    "        v = np.array([float(lf.get_lf(date)[1]) for lf in latent_factors])\n",
    "        p = 1 / v\n",
    "        return np.sum(m * p) / np.sum(p), 1 / np.sum(p)\n",
    "    else:\n",
    "        ms = [lf.get_lf(date)[0] for lf in latent_factors]\n",
    "        vs = [lf.get_lf(date)[1] for lf in latent_factors]\n",
    "        ps = [np.linalg.inv(v) for v in vs]\n",
    "        m = np.sum([p @ m.reshape(-1,1) for m, p in zip(ms, ps)], axis=0)\n",
    "        v = np.linalg.inv(np.sum(ps, axis=0))\n",
    "        mean = v @ m\n",
    "        return mean.reshape(-1), v"
   ]
  },
  {
   "cell_type": "code",
   "execution_count": null,
   "metadata": {},
   "outputs": [],
   "source": [
    "#export\n",
    "def merge_forecast_fxn(date, latent_factors, **kwargs):\n",
    "    k = np.min([lf.k for lf in latent_factors])\n",
    "    lf_mean = []\n",
    "    lf_var = []\n",
    "    if latent_factors[0].p == 1:\n",
    "        ms, vs = list(zip(*[lf.get_lf_forecast(date) for lf in latent_factors]))\n",
    "        for h in range(k):\n",
    "            m = np.array([float(m[h]) for m in ms])\n",
    "            v = np.array([float(v[h]) for v in vs])\n",
    "            p = 1 / v\n",
    "            lf_mean.append(np.sum(m * p) / np.sum(p))\n",
    "            lf_var.append(1 / np.sum(p))\n",
    "        return lf_mean, lf_var\n",
    "    else:\n",
    "        ms, vs = list(zip(*[lf.get_lf_forecast(date) for lf in latent_factors]))\n",
    "        ps = [[np.linalg.inv(var) for var in v] for v in vs]\n",
    "        for h in range(k):\n",
    "            m = np.sum([p[h] @ m[h].reshape(-1, 1) for m, p in zip(ms, ps)], axis=0)\n",
    "            v = np.linalg.inv(np.sum([p[h] for p in ps], axis=0))\n",
    "            mean = v @ m\n",
    "            lf_mean.append(mean.reshape(-1))\n",
    "            lf_var.append(v)\n",
    "        return lf_mean, lf_var"
   ]
  },
  {
   "cell_type": "code",
   "execution_count": null,
   "metadata": {},
   "outputs": [],
   "source": [
    "#export\n",
    "def merge_latent_factors(latent_factors):\n",
    "    \"\"\"\n",
    "    :param latent_factors: list of the same latent factor from different sources to be combined into 1 using precision weighted averaging\n",
    "    :return: A single latent factor\n",
    "    \"\"\"\n",
    "    # Set the start and end dates\n",
    "    start_date = np.min([lf.start_date for lf in latent_factors])\n",
    "    end_date = np.max([lf.end_date for lf in latent_factors])\n",
    "    dates = pd.date_range(start_date, end_date)\n",
    "\n",
    "    # Set the start and end forecast dates\n",
    "    forecast_start_date = np.min([lf.forecast_start_date for lf in latent_factors])\n",
    "    forecast_end_date = np.max([lf.forecast_end_date for lf in latent_factors])\n",
    "    forecast_dates = pd.date_range(forecast_start_date, forecast_end_date)\n",
    "\n",
    "    # Create a new latent factor\n",
    "    merged_lf = latent_factor(gen_fxn = merge_fxn,\n",
    "                              gen_forecast_fxn = merge_forecast_fxn)\n",
    "\n",
    "    for date in dates:\n",
    "        merged_lf.generate_lf(date, latent_factors=[lf for lf in latent_factors if lf.dates.isin([date]).any()])\n",
    "\n",
    "    for date in forecast_dates:\n",
    "        merged_lf.generate_lf_forecast(date, latent_factors=[lf for lf in latent_factors if lf.forecast_dates.isin([date]).any()])\n",
    "\n",
    "    merged_lf.append_lf()\n",
    "    merged_lf.append_lf_forecast()\n",
    "\n",
    "    return merged_lf"
   ]
  },
  {
   "cell_type": "code",
   "execution_count": null,
   "metadata": {},
   "outputs": [],
   "source": [
    "#export\n",
    "def merge_lf_with_predictor(latent_factor, X, X_dates):\n",
    "    \"\"\"\n",
    "    Function to modify a latent factor by multiplying it by a known predictor. Example of latent factor is\n",
    "     the coefficient on effect of price from an external model, while the price itself is a known predictor.\n",
    "\n",
    "    :param X: A known predictor\n",
    "    :param X_dates: Dates associated with the known predictor\n",
    "    :return:\n",
    "    \"\"\"\n",
    "\n",
    "    newlf = latent_factor.copy()\n",
    "\n",
    "    X = pd.DataFrame(X, index=X_dates)\n",
    "    if latent_factor.p == 1:\n",
    "\n",
    "        for date in newlf.dates:\n",
    "            if X_dates.isin([date]).any():\n",
    "                newlf.mean.loc[date] *= X.loc[date].values\n",
    "                newlf.var.loc[date] *= (X.loc[date].values ** 2)\n",
    "            else:\n",
    "                newlf.mean.drop(date, inplace=True)\n",
    "                newlf.var.drop(date, inplace=True)\n",
    "\n",
    "        for date in newlf.forecast_dates:\n",
    "            if X_dates.isin([date]).any():\n",
    "\n",
    "                # m = newlf.forecast_mean.loc[date]\n",
    "                # v = newlf.forecast_var.loc[date]\n",
    "                for h in range(newlf.k):\n",
    "                    newlf.forecast_mean.loc[date][h] *= X.loc[date + pd.DateOffset(days=h)].values\n",
    "                    newlf.forecast_var.loc[date][h] *= (X.loc[date + pd.DateOffset(days=h)].values ** 2)\n",
    "                # newlf.forecast_mean.loc[date] = m\n",
    "                # newlf.forecast_var.loc[date] = v\n",
    "\n",
    "                if newlf.forecast_path:\n",
    "                    # c = newlf.forecast_cov.loc[date]\n",
    "                    for h in range(1, newlf.k):\n",
    "                        for j in range(h):\n",
    "                            newlf.forecast_cov.loc[date][h-1][:,:,j] *= X.loc[date + pd.DateOffset(days=j)].values * X.loc[date + pd.DateOffset(days=h)].values\n",
    "                    # newlf.forecast_cov.loc[date] = c\n",
    "            else:\n",
    "                newlf.forecast_mean.drop(date, inplace=True)\n",
    "                newlf.forecast_var.drop(date, inplace=True)\n",
    "\n",
    "                if newlf.forecast_path:\n",
    "                    newlf.forecast_cov.drop(date, inplace=True)\n",
    "\n",
    "\n",
    "    else:\n",
    "        for date in newlf.dates:\n",
    "            if X_dates.isin([date]).any():\n",
    "                newlf.mean.loc[date] *= X.loc[date].values\n",
    "                newlf.var.loc[date] *= X.loc[date].values.reshape(-1,1) @ X.loc[date].values.reshape(1,-1)\n",
    "            else:\n",
    "                newlf.mean.drop(date, inplace=True)\n",
    "                newlf.var.drop(date, inplace=True)\n",
    "\n",
    "        for date in newlf.forecast_dates:\n",
    "            if X_dates.isin([date]).any():\n",
    "                # m = newlf.forecast_mean.loc[date]\n",
    "                # v = newlf.forecast_var.loc[date]\n",
    "                for h in range(newlf.k):\n",
    "                    newlf.forecast_mean.loc[date][h] *= X.loc[date + pd.DateOffset(days=h)].values\n",
    "                    newlf.forecast_var.loc[date][h] *= X.loc[date + pd.DateOffset(days=h)].values.reshape(-1,1) @ X.loc[date + pd.DateOffset(days=h)].values.reshape(1,-1)\n",
    "                # newlf.forecast_mean.loc[date] = m\n",
    "                # newlf.forecast_var.loc[date] = v\n",
    "\n",
    "                if newlf.forecast_path:\n",
    "                    # c = newlf.forecast_cov.loc[date]\n",
    "                    for h in range(1, newlf.k):\n",
    "                        for j in range(h):\n",
    "                            newlf.forecast_cov.loc[date][h-1][:,:,j] *= X.loc[date + pd.DateOffset(days=j)].values.reshape(-1,1) @ X.loc[date + pd.DateOffset(days=h)].values.reshape(1,-1)\n",
    "\n",
    "                    # newlf.forecast_cov.loc[date] = c\n",
    "\n",
    "            else:\n",
    "                newlf.forecast_mean.drop(date, inplace=True)\n",
    "                newlf.forecast_var.drop(date, inplace=True)\n",
    "\n",
    "                if newlf.forecast_path:\n",
    "                    newlf.forecast_cov.drop(date, inplace=True)\n",
    "\n",
    "    return newlf"
   ]
  },
  {
   "cell_type": "code",
   "execution_count": null,
   "metadata": {},
   "outputs": [],
   "source": [
    "#export\n",
    "def pct_chg_from_lf_avg(latent_factor, window=10):\n",
    "\n",
    "    def pct_chg_gen(date, ma, lf):\n",
    "        m = 100 * (lf.mean.loc[date] - ma.loc[date]) / ma.loc[date]\n",
    "        v = lf.var.loc[date] * (100 / ma.loc[date]) ** 2\n",
    "        return m, v\n",
    "\n",
    "    def pct_chg_gen_forecast(date, ma, k, lf):\n",
    "        m = []\n",
    "        v = []\n",
    "        for h in range(lf.k):\n",
    "            m.append(100 * ((lf.forecast_mean.loc[date][h] - ma.loc[date]) / ma.loc[date]))\n",
    "            v.append(lf.forecast_var.loc[date][h] * (100 / ma.loc[date]) ** 2)\n",
    "\n",
    "        return m, v\n",
    "\n",
    "\n",
    "    ma = latent_factor.mean.rolling(window=window, min_periods=1).mean()\n",
    "    ma = pd.Series(ma, index=latent_factor.dates)\n",
    "\n",
    "    newlf = latent_factor(gen_fxn = partial(pct_chg_gen, lf=latent_factor, ma=ma), gen_forecast_fxn=partial(pct_chg_gen_forecast, lf=latent_factor, ma=ma, k=latent_factor.k))\n",
    "\n",
    "    for date in latent_factor.dates:\n",
    "        newlf.generate_lf(date)\n",
    "\n",
    "    for date in latent_factor.forecast_dates:\n",
    "        newlf.generate_lf_forecast(date)\n",
    "\n",
    "    newlf.append_lf()\n",
    "    newlf.append_lf_forecast()\n",
    "\n",
    "    return newlf"
   ]
  },
  {
   "cell_type": "code",
   "execution_count": null,
   "metadata": {},
   "outputs": [],
   "source": [
    "#export\n",
    "def load_latent_factor(filename):\n",
    "    file = open(filename, 'rb')\n",
    "    return pickle.load(file)"
   ]
  },
  {
   "cell_type": "code",
   "execution_count": null,
   "metadata": {},
   "outputs": [],
   "source": [
    "#export\n",
    "def forecast_holiday_effect_dlm(mod, X, k):\n",
    "    a, R = forecast_aR(mod, k)\n",
    "\n",
    "    mean = X.T @ a[mod.ihol]\n",
    "    var = (mod.n / (mod.n - 2)) * (X.T @ R[np.ix_(mod.ihol, mod.ihol)] @ X + mod.s)\n",
    "    return mean, var"
   ]
  },
  {
   "cell_type": "code",
   "execution_count": null,
   "metadata": {},
   "outputs": [
    {
     "name": "stdout",
     "output_type": "stream",
     "text": [
      "Converted 00_dglm.ipynb.\n",
      "Converted 01_update.ipynb.\n",
      "Converted 02_forecast.ipynb.\n",
      "Converted 03_define_models.ipynb.\n",
      "Converted 04_seasonal.ipynb.\n",
      "Converted 05_analysis.ipynb.\n",
      "Converted 06_conjugates.ipynb.\n",
      "Converted 07_point_forecast.ipynb.\n",
      "Converted 08_loss_functions.ipynb.\n",
      "Converted 09_plot.ipynb.\n",
      "Converted 10_shared.ipynb.\n",
      "Converted 11_dcmm.ipynb.\n",
      "Converted 12_dbcm.ipynb.\n",
      "Converted 13_latent_factor.ipynb.\n",
      "Converted 14_latent_factor_fxns.ipynb.\n",
      "Converted index.ipynb.\n"
     ]
    }
   ],
   "source": [
    "#hide\n",
    "from nbdev.export import notebook2script\n",
    "notebook2script()"
   ]
  },
  {
   "cell_type": "code",
   "execution_count": null,
   "metadata": {},
   "outputs": [],
   "source": []
  }
 ],
 "metadata": {
  "kernelspec": {
   "display_name": "Python 3",
   "language": "python",
   "name": "python3"
  }
 },
 "nbformat": 4,
 "nbformat_minor": 4
}
