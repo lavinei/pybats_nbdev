{
 "cells": [
  {
   "cell_type": "markdown",
   "metadata": {},
   "source": [
    "# PyBATS\n",
    "\n",
    "> PyBATS is a package for Bayesian time series modeling and forecasting. It is designed to be flexible, offering many options to customize the model form, prior, and forecast period. The focus of the package is the class Dynamic Generalized Linear Model ('dglm'). The supported DGLMs are Poisson, Bernoulli, Normal (a DLM), and Binomial. These models are primarily based on [Bayesian Forecasting and Dynamic Models](http://www2.stat.duke.edu/~mw/West&HarrisonBook/), by West and Harrison (1997)."
   ]
  },
  {
   "cell_type": "markdown",
   "metadata": {},
   "source": [
    "## Install"
   ]
  },
  {
   "cell_type": "markdown",
   "metadata": {},
   "source": [
    "PyBATS is hosted on _PyPI_ and can be installed with pip:"
   ]
  },
  {
   "cell_type": "markdown",
   "metadata": {},
   "source": [
    "    $ pip install pybats"
   ]
  },
  {
   "cell_type": "markdown",
   "metadata": {},
   "source": [
    "The most recent development version is hosted on [GitHub](https://github.com/lavinei/pybats). You can download and install from there:"
   ]
  },
  {
   "cell_type": "markdown",
   "metadata": {},
   "source": [
    "```\n",
    "$ git clone git@github.com:lavinei/pybats.git pybats\n",
    "$ cd pybats\n",
    "$ sudo python setup.py install\n",
    "```"
   ]
  },
  {
   "cell_type": "markdown",
   "metadata": {},
   "source": [
    "## Quick Start"
   ]
  },
  {
   "cell_type": "markdown",
   "metadata": {},
   "source": [
    "This provides the most basic example of Bayesian time series analysis using PyBATS. We'll use a public dataset of the sales of a dietary weight control product, along with the advertising spend. These are integer valued counts, which we model with a Poisson Dynamic Generalized Linear Model (DGLM)."
   ]
  },
  {
   "cell_type": "markdown",
   "metadata": {},
   "source": [
    "First we load in the data, and take a quick look at the first couples of entries:"
   ]
  },
  {
   "cell_type": "code",
   "execution_count": null,
   "metadata": {},
   "outputs": [
    {
     "data": {
      "text/html": [
       "<div>\n",
       "<style scoped>\n",
       "    .dataframe tbody tr th:only-of-type {\n",
       "        vertical-align: middle;\n",
       "    }\n",
       "\n",
       "    .dataframe tbody tr th {\n",
       "        vertical-align: top;\n",
       "    }\n",
       "\n",
       "    .dataframe thead th {\n",
       "        text-align: right;\n",
       "    }\n",
       "</style>\n",
       "<table border=\"1\" class=\"dataframe\">\n",
       "  <thead>\n",
       "    <tr style=\"text-align: right;\">\n",
       "      <th></th>\n",
       "      <th>Sales</th>\n",
       "      <th>Advertising</th>\n",
       "    </tr>\n",
       "  </thead>\n",
       "  <tbody>\n",
       "    <tr>\n",
       "      <th>1</th>\n",
       "      <td>15</td>\n",
       "      <td>12.0</td>\n",
       "    </tr>\n",
       "    <tr>\n",
       "      <th>2</th>\n",
       "      <td>16</td>\n",
       "      <td>20.5</td>\n",
       "    </tr>\n",
       "    <tr>\n",
       "      <th>3</th>\n",
       "      <td>18</td>\n",
       "      <td>21.0</td>\n",
       "    </tr>\n",
       "  </tbody>\n",
       "</table>\n",
       "</div>"
      ],
      "text/plain": [
       "   Sales  Advertising\n",
       "1     15         12.0\n",
       "2     16         20.5\n",
       "3     18         21.0"
      ]
     },
     "execution_count": null,
     "metadata": {},
     "output_type": "execute_result"
    }
   ],
   "source": [
    "import numpy as np\n",
    "import pandas as pd\n",
    "\n",
    "from pybats_nbdev.shared import load_sales_example\n",
    "from pybats_nbdev.analysis import *\n",
    "from pybats_nbdev.point_forecast import *\n",
    "from pybats_nbdev.plot import *\n",
    "\n",
    "# Load example sales and advertising data. Source: Abraham & Ledolter (1983)\n",
    "data = load_sales_example()             \n",
    "data.head(3)"
   ]
  },
  {
   "cell_type": "markdown",
   "metadata": {},
   "source": [
    "Second, we extract the outcome (_Y_) and covariate (_X_) from this dataset. We'll set the forecast horizon _k=1_ for this example. We could look at multiple forecast horizons by setting k to a larger value. Then the 'analysis' function will automatically perform marginal forecasts across horizons _1:k_."
   ]
  },
  {
   "cell_type": "markdown",
   "metadata": {},
   "source": [
    "Finally, we set the start and end time for forecasting. In this case we specify the start and end date with integers, because there are no dates associated with this dataset."
   ]
  },
  {
   "cell_type": "code",
   "execution_count": null,
   "metadata": {},
   "outputs": [],
   "source": [
    "Y = data['Sales'].values\n",
    "X = data['Advertising'].values\n",
    "\n",
    "k = 1                                               # Forecast 1 step ahead\n",
    "forecast_start = 15                                 # Start forecast at time step 15\n",
    "forecast_end = 35                                   # End forecast at time step 35 (final time step)"
   ]
  },
  {
   "cell_type": "markdown",
   "metadata": {},
   "source": [
    "We use the _analysis_ function as a helper to a) define the model, b) run sequential updating (forward filtering), and c) forecast. By default, it will return samples from the forecast distribution as well as the model after the final observation."
   ]
  },
  {
   "cell_type": "code",
   "execution_count": null,
   "metadata": {},
   "outputs": [
    {
     "name": "stdout",
     "output_type": "stream",
     "text": [
      "beginning forecasting\n"
     ]
    }
   ],
   "source": [
    "mod, samples = analysis(Y, X, family=\"poisson\",\n",
    "forecast_start=forecast_start,      # First time step to forecast on\n",
    "forecast_end=forecast_end,          # Final time step to forecast on\n",
    "k=k,                                # Forecast horizon. If k>1, default is to forecast 1:k steps ahead, marginally\n",
    "prior_length=6,                     # How many data point to use in defining prior\n",
    "rho=.5,                             # Random effect extension, increases variance of Poisson DGLM (see Berry and West, 2019)\n",
    "deltrend=0.95,                      # Discount factor on the trend component (intercept)\n",
    "delregn=0.95                        # Discount factor on the regression component\n",
    ")"
   ]
  },
  {
   "cell_type": "markdown",
   "metadata": {},
   "source": [
    "The model has the posterior mean and variance of the state vector stored as ```mod.a``` and ```mod.C``` respectively.  In this example, we are purely interested in the forecasts. We plot the sales, median forecast, and 95\\% credible interval."
   ]
  },
  {
   "cell_type": "code",
   "execution_count": null,
   "metadata": {},
   "outputs": [
    {
     "data": {
      "image/png": "[encoded data removed]",
      "text/plain": [
       "<Figure size 576x432 with 1 Axes>"
      ]
     },
     "metadata": {
      "needs_background": "light"
     },
     "output_type": "display_data"
    }
   ],
   "source": [
    "import matplotlib.pyplot as plt\n",
    "\n",
    "# Take the median as the point forecast\n",
    "forecast = median(samples)                                  \n",
    "\n",
    "# Plot the 1-step ahead point forecast plus the 95% credible interval\n",
    "fig, ax = plt.subplots(1,1, figsize=(8, 6))   \n",
    "ax = plot_data_forecast(fig, ax, Y[forecast_start:forecast_end + k], forecast, samples,\n",
    "                        dates=np.arange(forecast_start, forecast_end+1, dtype='int'))\n",
    "ax = ax_style(ax, ylabel='Sales', xlabel='Time', xlim=[forecast_start, forecast_end],\n",
    "              legend=['Forecast', 'Sales', 'Credible Interval'])"
   ]
  },
  {
   "cell_type": "markdown",
   "metadata": {},
   "source": [
    "## Types of Models"
   ]
  },
  {
   "cell_type": "markdown",
   "metadata": {},
   "source": [
    "All models in PyBATS are based on DGLMs, which are well described by their name:\n",
    "\n",
    "1. **Dynamic**: The coefficients are changing over *time*\n",
    "2. **Generalized**: We can choose the distribution of the observations (Normal, Poisson, Bernoulli, or Binomial)\n",
    "3. **Linear**: Forecasts are made by a standard linear combination of coefficients multiplied by predictors"
   ]
  },
  {
   "cell_type": "markdown",
   "metadata": {},
   "source": [
    "The correct model type depends upon your time series, $y_t$. The most common type of observations are continuous real numbers, which can often be modeled using a normal Dynamic Linear Model (`dlm`).\n",
    "\n",
    "PyBATS is unique in the current Python ecosystem because it provides dynamic models for non-normally distribution observations:\n",
    "\n",
    "- Poisson DGLMs (`pois_dglm`) model positive integers, as in the example above with counts of daily item sales.\n",
    "- Bernoulli DGLMs (`bern_dglm`) model data that can be encoded as $0-1$, or success-failure. An example is a time series of changes in stock price, where positive changes are coded as $1$, and negative changes are coded as $0$.\n",
    "- Binomial DGLMs (`bin_dglm`) model the sum of Bernoulli $0-1$ outcomes. An example is the daily count of responses to a survey, in which $n_t$ people are contacted each day, and they choose whether to respond independently."
   ]
  },
  {
   "cell_type": "markdown",
   "metadata": {},
   "source": [
    "## Model Components"
   ]
  },
  {
   "cell_type": "markdown",
   "metadata": {},
   "source": [
    "The *linear* combination in a DGLM is the multiplication (dot product) of the state vector by the regression vector \n",
    "\n",
    "$$\\lambda_t = F_t^{'} \\theta_t$$\n",
    "\n",
    "Where:\n",
    "- $\\lambda_t$ is called the linear predictor\n",
    "- $\\theta_t$ is called the state vector\n",
    "- $F_t$ is called the regression vector\n",
    "\n",
    "\n",
    "The coefficients in a DGLM are all stored in the state vector, $\\theta_t$. The state vector is defined by a set of different *components*, which are defined up front by the modeler. "
   ]
  },
  {
   "cell_type": "markdown",
   "metadata": {},
   "source": [
    "### Trend Component"
   ]
  },
  {
   "cell_type": "markdown",
   "metadata": {},
   "source": [
    "PyBATS supports $0$, $1$, and $2$ trend coefficients in a DGLM. $1$ trend term is simply an intercept in the model. If there are $2$ trend terms, then the model contains and intercept *and* a local slope, which is the rate that the intercept changes over time. Because all coefficients are dynamic, both the intercept and local slope will change over time.\n",
    "\n",
    "The default setting is to have only an intercept term, which we can see from the model defined in the example above:"
   ]
  },
  {
   "cell_type": "code",
   "execution_count": null,
   "metadata": {},
   "outputs": [
    {
     "data": {
      "text/plain": [
       "1"
      ]
     },
     "execution_count": null,
     "metadata": {},
     "output_type": "execute_result"
    }
   ],
   "source": [
    "mod.ntrend"
   ]
  },
  {
   "cell_type": "markdown",
   "metadata": {},
   "source": [
    "We can access the mean $E\\left[ \\theta_t \\right]$ and variance $V\\left[ \\theta_t \\right]$ of the state vector by the attribute names **a** and **R**. We use the trend indices, given by `mod.itrend`, to view the trend component of the state vector."
   ]
  },
  {
   "cell_type": "code",
   "execution_count": null,
   "metadata": {},
   "outputs": [
    {
     "data": {
      "text/plain": [
       "(array([[0.63]]), array([0.13]))"
      ]
     },
     "execution_count": null,
     "metadata": {},
     "output_type": "execute_result"
    }
   ],
   "source": [
    "mod.a[mod.itrend].round(2), mod.R.diagonal()[mod.itrend].round(2)"
   ]
  },
  {
   "cell_type": "markdown",
   "metadata": {},
   "source": [
    "So the intercept term has a mean of $0.63$ and a variance of $0.13$ at time T, at the end of the analysis. The analysis is over either at time `forecast_end`, or when we hit the final observation in `Y`, whichever comes first.\n",
    "\n",
    "To add in a local slope, we can re-run the analysis from above, while specifying that `ntrend=2`."
   ]
  },
  {
   "cell_type": "code",
   "execution_count": null,
   "metadata": {},
   "outputs": [
    {
     "name": "stdout",
     "output_type": "stream",
     "text": [
      "beginning forecasting\n"
     ]
    }
   ],
   "source": [
    "mod, samples = analysis(Y, X, family=\"poisson\",\n",
    "ntrend=2,                           # Use an intercept and local slope\n",
    "forecast_start=forecast_start,      # First time step to forecast on\n",
    "forecast_end=forecast_end,          # Final time step to forecast on\n",
    "k=k,                                # Forecast horizon. If k>1, default is to forecast 1:k steps ahead, marginally\n",
    "prior_length=6,                     # How many data point to use in defining prior\n",
    "rho=.5,                             # Random effect extension, increases variance of Poisson DGLM (see Berry and West, 2019)\n",
    "deltrend=0.95,                      # Discount factor on the trend component (intercept)\n",
    "delregn=0.95                        # Discount factor on the regression component\n",
    ")"
   ]
  },
  {
   "cell_type": "code",
   "execution_count": null,
   "metadata": {},
   "outputs": [
    {
     "data": {
      "text/plain": [
       "2"
      ]
     },
     "execution_count": null,
     "metadata": {},
     "output_type": "execute_result"
    }
   ],
   "source": [
    "mod.ntrend"
   ]
  },
  {
   "cell_type": "markdown",
   "metadata": {},
   "source": [
    "We can plot the forecasts with this new model, and see that the results are quite similar!"
   ]
  },
  {
   "cell_type": "code",
   "execution_count": null,
   "metadata": {},
   "outputs": [
    {
     "data": {
      "image/png": "[encoded data removed]",
      "text/plain": [
       "<Figure size 576x432 with 1 Axes>"
      ]
     },
     "metadata": {
      "needs_background": "light"
     },
     "output_type": "display_data"
    }
   ],
   "source": [
    "# Take the median as the point forecast\n",
    "forecast = median(samples)                                  \n",
    "\n",
    "# Plot the 1-step ahead point forecast plus the 95% credible interval\n",
    "fig, ax = plt.subplots(1,1, figsize=(8, 6))   \n",
    "ax = plot_data_forecast(fig, ax, Y[forecast_start:forecast_end + k], forecast, samples,\n",
    "                        dates=np.arange(forecast_start, forecast_end+1, dtype='int'))\n",
    "ax = ax_style(ax, ylabel='Sales', xlabel='Time', xlim=[forecast_start, forecast_end],\n",
    "              legend=['Forecast', 'Sales', 'Credible Interval'])"
   ]
  },
  {
   "cell_type": "markdown",
   "metadata": {},
   "source": [
    "### Regression Component"
   ]
  },
  {
   "cell_type": "markdown",
   "metadata": {},
   "source": [
    "The regression component is the most commonly recognized part of a linear model, where any known predictors are used. In this example, the advertising budget is our known predictor, which is stored in the $X$ array. When there are multiple predictors, each one is stored in a column of $X$."
   ]
  },
  {
   "cell_type": "code",
   "execution_count": null,
   "metadata": {},
   "outputs": [
    {
     "data": {
      "text/plain": [
       "array([12. , 20.5, 21. , 15.5, 15.3])"
      ]
     },
     "execution_count": null,
     "metadata": {},
     "output_type": "execute_result"
    }
   ],
   "source": [
    "X[:5]"
   ]
  },
  {
   "cell_type": "markdown",
   "metadata": {},
   "source": [
    "The `analysis` function automatically detected that $X$ only had $1$ column, and so it defined the model to have the correct number of regression components."
   ]
  },
  {
   "cell_type": "code",
   "execution_count": null,
   "metadata": {},
   "outputs": [
    {
     "data": {
      "text/plain": [
       "1"
      ]
     },
     "execution_count": null,
     "metadata": {},
     "output_type": "execute_result"
    }
   ],
   "source": [
    "mod.nregn"
   ]
  },
  {
   "cell_type": "markdown",
   "metadata": {},
   "source": [
    "To understand the impact of advertising on sales, we can look at the regression coefficients at the final time step. Similar to the trend component, the indices for the regression component are stored in `mod.iregn`."
   ]
  },
  {
   "cell_type": "code",
   "execution_count": null,
   "metadata": {},
   "outputs": [
    {
     "data": {
      "text/plain": [
       "(array([[0.0954]]), array([0.0005]))"
      ]
     },
     "execution_count": null,
     "metadata": {},
     "output_type": "execute_result"
    }
   ],
   "source": [
    "mod.a[mod.iregn].round(4), mod.R.diagonal()[mod.iregn].round(4)"
   ]
  },
  {
   "cell_type": "markdown",
   "metadata": {},
   "source": [
    "The coefficient mean is $0.095$, with a very small variance. Because the mean of the coefficient is positive, we can interpret this coefficient as saying that an increase in advertising will increase our forecast of sales. Good, that makes sense! To precisely interpret the size of the effect, you need to know the link function for a Poisson DGLM, provided **HERE XXX INSERT LINK XXX**.\n",
    "\n",
    "To quantify the uncertainty of the parameter, many people like to use the standard deviation (or standard error) of the coefficient, which is simply the square root of the variance. A good rule of thumb to get a pseudo-confidence interval is to add $\\pm$ 2*sd(coefficient)."
   ]
  },
  {
   "cell_type": "code",
   "execution_count": null,
   "metadata": {},
   "outputs": [
    {
     "data": {
      "text/plain": [
       "array([0.02])"
      ]
     },
     "execution_count": null,
     "metadata": {},
     "output_type": "execute_result"
    }
   ],
   "source": [
    "np.sqrt(mod.R.diagonal()[mod.iregn]).round(2)"
   ]
  },
  {
   "cell_type": "markdown",
   "metadata": {},
   "source": [
    "### Seasonal Component"
   ]
  },
  {
   "cell_type": "markdown",
   "metadata": {},
   "source": [
    "Seasonal components represent cyclic or periodic behavior in the time series  - e.g. daily, weekly, or annual patterns. In PyBATS, seasonal components are defined by their period (e.g. $p = 7$ for a weekly trend on daily observation), and their harmonic components. Each harmonic component involves a sine and a cosine function with $2$ parameters, so there should never be more than $p/2$ harmonic components, or the model is over-parameterized.\n",
    "\n",
    "For example, if the period is $p=7$ (defined by setting `seasPeriods=[7]`) then a fully parameterized seasonal component has harmonic components `seasHarmComponents = [1,2,3]`.\n",
    "\n",
    "If there is an annual trend on daily data, then the period is $p=365$. However, using all possible harmonic components, `seasHarmComponents = [1,2,...,182]`, is far too many parameters to learn. It is much more common to use the first several harmonic components, such as `seasHarmComponents = [1,2]`. The $r^{th}$ harmonic component has a cycle legth of $p/r$. So in the example of an annual pattern, the first harmonic component will have a cycle length of $365/2 = 182.5$, representing a semi-annual cycle, and the second harmonic component will have a length of $365/4$, for a quarterly cycle.\n",
    "\n",
    "For more details, refer to Chapter 8.6 in [Bayesian Forecasting and Dynamic Models](http://www2.stat.duke.edu/~mw/West&HarrisonBook/) by West and Harrison.\n",
    "\n",
    "To see this in code, we'll load in some simulated daily sales data:"
   ]
  },
  {
   "cell_type": "code",
   "execution_count": null,
   "metadata": {},
   "outputs": [],
   "source": [
    "#hide\n",
    "from pandas.tseries.holiday import USFederalHolidayCalendar"
   ]
  },
  {
   "cell_type": "code",
   "execution_count": null,
   "metadata": {},
   "outputs": [
    {
     "data": {
      "text/html": [
       "<div>\n",
       "<style scoped>\n",
       "    .dataframe tbody tr th:only-of-type {\n",
       "        vertical-align: middle;\n",
       "    }\n",
       "\n",
       "    .dataframe tbody tr th {\n",
       "        vertical-align: top;\n",
       "    }\n",
       "\n",
       "    .dataframe thead th {\n",
       "        text-align: right;\n",
       "    }\n",
       "</style>\n",
       "<table border=\"1\" class=\"dataframe\">\n",
       "  <thead>\n",
       "    <tr style=\"text-align: right;\">\n",
       "      <th></th>\n",
       "      <th>Sales</th>\n",
       "      <th>Price</th>\n",
       "      <th>Promotion</th>\n",
       "    </tr>\n",
       "    <tr>\n",
       "      <th>Date</th>\n",
       "      <th></th>\n",
       "      <th></th>\n",
       "      <th></th>\n",
       "    </tr>\n",
       "  </thead>\n",
       "  <tbody>\n",
       "    <tr>\n",
       "      <th>2014-06-01</th>\n",
       "      <td>15.0</td>\n",
       "      <td>1.11</td>\n",
       "      <td>0.0</td>\n",
       "    </tr>\n",
       "    <tr>\n",
       "      <th>2014-06-02</th>\n",
       "      <td>13.0</td>\n",
       "      <td>2.19</td>\n",
       "      <td>0.0</td>\n",
       "    </tr>\n",
       "    <tr>\n",
       "      <th>2014-06-03</th>\n",
       "      <td>6.0</td>\n",
       "      <td>0.23</td>\n",
       "      <td>0.0</td>\n",
       "    </tr>\n",
       "    <tr>\n",
       "      <th>2014-06-04</th>\n",
       "      <td>2.0</td>\n",
       "      <td>-0.05</td>\n",
       "      <td>1.0</td>\n",
       "    </tr>\n",
       "    <tr>\n",
       "      <th>2014-06-05</th>\n",
       "      <td>6.0</td>\n",
       "      <td>-0.14</td>\n",
       "      <td>0.0</td>\n",
       "    </tr>\n",
       "  </tbody>\n",
       "</table>\n",
       "</div>"
      ],
      "text/plain": [
       "            Sales  Price  Promotion\n",
       "Date                               \n",
       "2014-06-01   15.0   1.11        0.0\n",
       "2014-06-02   13.0   2.19        0.0\n",
       "2014-06-03    6.0   0.23        0.0\n",
       "2014-06-04    2.0  -0.05        1.0\n",
       "2014-06-05    6.0  -0.14        0.0"
      ]
     },
     "execution_count": null,
     "metadata": {},
     "output_type": "execute_result"
    }
   ],
   "source": [
    "from pybats_nbdev.shared import load_sales_example2\n",
    "data = load_sales_example2()\n",
    "data.head()"
   ]
  },
  {
   "cell_type": "markdown",
   "metadata": {},
   "source": [
    "The simulated dataset contains daily sales of an item from June 1, 2014 to June 1, 2018. \n",
    "\n",
    "- The Price column represents percent change in price from the moving average, so it's centered at 0.\n",
    "- Promotion is a 0-1 indicator for a specific sale or promotion on the item.\n",
    "\n",
    "Before we run an analysis, we again need to specify a few arguments"
   ]
  },
  {
   "cell_type": "code",
   "execution_count": null,
   "metadata": {},
   "outputs": [],
   "source": [
    "prior_length = 21   # Number of days of data used to set prior\n",
    "k = 1               # Forecast horizon\n",
    "rho = 0.5           # Random effect discount factor to increase variance of forecast distribution\n",
    "forecast_samps = 1000  # Number of forecast samples to draw\n",
    "forecast_start = pd.to_datetime('2018-01-01') # Date to start forecasting\n",
    "forecast_end = pd.to_datetime('2018-06-01')   # Date to stop forecasting\n",
    "Y = data['Sales'].values\n",
    "X = data[['Price', 'Promotion']].values"
   ]
  },
  {
   "cell_type": "markdown",
   "metadata": {},
   "source": [
    "And most importantly, we need to specify that the retail sales will have a seasonality component with a $7-$day period:"
   ]
  },
  {
   "cell_type": "code",
   "execution_count": null,
   "metadata": {},
   "outputs": [],
   "source": [
    "seasPeriods=[7]\n",
    "seasHarmComponents = [[1,2,3]]"
   ]
  },
  {
   "cell_type": "code",
   "execution_count": null,
   "metadata": {},
   "outputs": [
    {
     "name": "stdout",
     "output_type": "stream",
     "text": [
      "beginning forecasting\n"
     ]
    }
   ],
   "source": [
    "mod, samples = analysis(Y, X,\n",
    "                        k, forecast_start, forecast_end, nsamps=forecast_samps,\n",
    "                        family='poisson',\n",
    "                        seasPeriods=seasPeriods, seasHarmComponents=seasHarmComponents,\n",
    "                        prior_length=prior_length, dates=data.index,\n",
    "                        rho=rho,\n",
    "                        ret = ['model', 'forecast'])"
   ]
  },
  {
   "cell_type": "markdown",
   "metadata": {},
   "source": [
    "We can visualize the forecasts, and instantly see how the weekly seasonality has effected them:"
   ]
  },
  {
   "cell_type": "code",
   "execution_count": null,
   "metadata": {},
   "outputs": [
    {
     "data": {
      "image/png": "[encoded data removed]",
      "text/plain": [
       "<Figure size 432x288 with 1 Axes>"
      ]
     },
     "metadata": {
      "needs_background": "light"
     },
     "output_type": "display_data"
    }
   ],
   "source": [
    "plot_length = 30\n",
    "data_1step = data.loc[forecast_end-pd.DateOffset(30):forecast_end]\n",
    "samples_1step = samples[:,-31:,0]\n",
    "fig, ax = plt.subplots(1,1)\n",
    "ax = plot_data_forecast(fig, ax,\n",
    "                        data_1step.Sales,\n",
    "                        median(samples_1step),\n",
    "                        samples_1step,\n",
    "                        data_1step.index,\n",
    "                        credible_interval=75)"
   ]
  },
  {
   "cell_type": "markdown",
   "metadata": {},
   "source": [
    "### Holidays and Special Events"
   ]
  },
  {
   "cell_type": "markdown",
   "metadata": {},
   "source": [
    "PyBATS provides a method to specify known holidays, special events, and other outliers in the data. This will automatically add in a special indicator (dummy) variable to the regression component in order to account for this special behavior.\n",
    "\n",
    "This can be useful for two purposes. Primarily, adding in a known, repeated, special event can improve forecasts. A secondary effect is that the indicator variable will help protect the other coefficients in the model from overreacting to outliers in the data."
   ]
  },
  {
   "cell_type": "markdown",
   "metadata": {},
   "source": [
    "To demonstrate, let's repeat the analysis of simulated retail sales from above, while including a holiday effect:"
   ]
  },
  {
   "cell_type": "code",
   "execution_count": null,
   "metadata": {},
   "outputs": [
    {
     "name": "stdout",
     "output_type": "stream",
     "text": [
      "beginning forecasting\n"
     ]
    }
   ],
   "source": [
    "holidays = USFederalHolidayCalendar.rules\n",
    "\n",
    "mod, samples = analysis(Y, X,\n",
    "                        k, forecast_start, forecast_end, nsamps=forecast_samps,\n",
    "                        family='poisson',\n",
    "                        seasPeriods=seasPeriods, seasHarmComponents=seasHarmComponents,\n",
    "                        prior_length=prior_length, dates=data.index,\n",
    "                        holidays=holidays,\n",
    "                        rho=rho,\n",
    "                        ret = ['model', 'forecast'])"
   ]
  },
  {
   "cell_type": "markdown",
   "metadata": {},
   "source": [
    "We've just used the standard holidays in the US Federal Calendar, but you can specify your own using this class in *Pandas*: **XXX ADD IN A LINK TO THE PANDAS DATE-TIME HOLIDAY CLASS**."
   ]
  },
  {
   "cell_type": "code",
   "execution_count": null,
   "metadata": {},
   "outputs": [
    {
     "data": {
      "text/plain": [
       "[Holiday: New Years Day (month=1, day=1, observance=<function nearest_workday at 0x7fc3616cf320>),\n",
       " Holiday: Martin Luther King Jr. Day (month=1, day=1, offset=<DateOffset: weekday=MO(+3)>),\n",
       " Holiday: Presidents Day (month=2, day=1, offset=<DateOffset: weekday=MO(+3)>),\n",
       " Holiday: Memorial Day (month=5, day=31, offset=<DateOffset: weekday=MO(-1)>),\n",
       " Holiday: July 4th (month=7, day=4, observance=<function nearest_workday at 0x7fc3616cf320>),\n",
       " Holiday: Labor Day (month=9, day=1, offset=<DateOffset: weekday=MO(+1)>),\n",
       " Holiday: Columbus Day (month=10, day=1, offset=<DateOffset: weekday=MO(+2)>),\n",
       " Holiday: Veterans Day (month=11, day=11, observance=<function nearest_workday at 0x7fc3616cf320>),\n",
       " Holiday: Thanksgiving (month=11, day=1, offset=<DateOffset: weekday=TH(+4)>),\n",
       " Holiday: Christmas (month=12, day=25, observance=<function nearest_workday at 0x7fc3616cf320>)]"
      ]
     },
     "execution_count": null,
     "metadata": {},
     "output_type": "execute_result"
    }
   ],
   "source": [
    "holidays"
   ]
  },
  {
   "cell_type": "markdown",
   "metadata": {},
   "source": [
    "Look again at the plot of forecasts above. A number of the observations fall outside of the $95\\%$ credible intervals. One of those is on May 28, 2018 - Memorial Day. How does it look now?"
   ]
  },
  {
   "cell_type": "code",
   "execution_count": null,
   "metadata": {},
   "outputs": [
    {
     "data": {
      "image/png": "[encoded data removed]",
      "text/plain": [
       "<Figure size 432x288 with 1 Axes>"
      ]
     },
     "metadata": {
      "needs_background": "light"
     },
     "output_type": "display_data"
    }
   ],
   "source": [
    "plot_length = 30\n",
    "data_1step = data.loc[forecast_end-pd.DateOffset(30):forecast_end]\n",
    "samples_1step = samples[:,-31:,0]\n",
    "fig, ax = plt.subplots(1,1)\n",
    "ax = plot_data_forecast(fig, ax,\n",
    "                        data_1step.Sales,\n",
    "                        median(samples_1step),\n",
    "                        samples_1step,\n",
    "                        data_1step.index,\n",
    "                        credible_interval=75)"
   ]
  },
  {
   "cell_type": "markdown",
   "metadata": {},
   "source": [
    "By adding in these holidays, the indicator variable changed both the point forecast and the forecast variance for observations on these specific days. The forecast for Memorial day is now spot on, along with added uncertainty, knowing that the sales could have spiked even higher."
   ]
  },
  {
   "cell_type": "markdown",
   "metadata": {},
   "source": [
    "## Discount Factors"
   ]
  },
  {
   "cell_type": "markdown",
   "metadata": {},
   "source": [
    "Discount factors are model hyperparameters that have to be specified before an analysis begins. They control the rate at which coefficients are allowed to change, and have a very simple interpretation. If the discount factor $\\delta=0.98$, then we *discount* the old information about a coefficient by adding $100\\% - 98\\% = 2\\%$ more uncertainty (variance). This enables the coefficient to learn more quickly from *new* observations in the time series. If all discount factors are set to $\\delta=1$, then there is no discounting, and the models become standard generalized linear models.\n",
    "\n",
    "There is a trade-off to lowering the discount factors. While it allows the coefficients to change more over time, it will increase the uncertainty in the forecasts, and can make the coefficients too sensitive to noise in the data.\n",
    "\n",
    "PyBATS has built-in some safety measures that prevent the variance from growing too large. This makes the models significantly more robust to poorly specified, and too low, discount factors. Even so, most discount factors should be between $0.9$ and $1$. For rarely observed predictors - like holidays - it's typically best to leave the discount factor at $1$.\n",
    "\n",
    "PyBATS allows discount factors to be set separately for each component, and even for each individual coefficient if desired."
   ]
  },
  {
   "cell_type": "code",
   "execution_count": null,
   "metadata": {},
   "outputs": [
    {
     "name": "stdout",
     "output_type": "stream",
     "text": [
      "beginning forecasting\n"
     ]
    }
   ],
   "source": [
    "deltrend = 0.98 # Discount factor on the trend component\n",
    "delregn = 0.98 # Discount factor on the regression component\n",
    "delseas = 0.98 # Discount factor on the seasonal component\n",
    "delhol = 1 # Discount factor on the holiday component\n",
    "rho = .3 # Random effect discount factor to increase variance of forecast distribution\n",
    "\n",
    "mod, samples = analysis(Y, X,\n",
    "                        k, forecast_start, forecast_end, nsamps=forecast_samps,\n",
    "                        family='poisson',\n",
    "                        seasPeriods=seasPeriods, seasHarmComponents=seasHarmComponents,\n",
    "                        prior_length=prior_length, dates=data.index,\n",
    "                        holidays=holidays,\n",
    "                        rho=rho,\n",
    "                        deltrend = deltrend,\n",
    "                        delregn=delregn,\n",
    "                        delseas=delseas,\n",
    "                        delhol=delhol,\n",
    "                        ret = ['model', 'forecast'])"
   ]
  },
  {
   "cell_type": "markdown",
   "metadata": {},
   "source": [
    "The default discount factors in PyBATS are fairly high. We've set them to $\\delta=0.98$ for the trend, regression, and seasonal components. This will allow those coefficient to adapt more rapidly. The holiday component is left at $\\delta=1$.\n",
    "\n",
    "We also changed the parameter $\\rho=0.3$. This is a special discount factor which is used only to increase the *forecast* uncertainty. This parameter is different than the other discount factor, and its range can go anywhere. The smaller $\\rho$ is, the wider the forecast interval. It can even be set higher than $1$, if the forecast intervals are too wide."
   ]
  },
  {
   "cell_type": "code",
   "execution_count": null,
   "metadata": {},
   "outputs": [
    {
     "data": {
      "text/plain": [
       "(0.0, 25.0)"
      ]
     },
     "execution_count": null,
     "metadata": {},
     "output_type": "execute_result"
    },
    {
     "data": {
      "image/png": "[encoded data removed]",
      "text/plain": [
       "<Figure size 432x288 with 1 Axes>"
      ]
     },
     "metadata": {
      "needs_background": "light"
     },
     "output_type": "display_data"
    }
   ],
   "source": [
    "plot_length = 30\n",
    "data_1step = data.loc[forecast_end-pd.DateOffset(30):forecast_end]\n",
    "samples_1step = samples[:,-31:,0]\n",
    "fig, ax = plt.subplots(1,1)\n",
    "ax = plot_data_forecast(fig, ax,\n",
    "                        data_1step.Sales,\n",
    "                        median(samples_1step),\n",
    "                        samples_1step,\n",
    "                        data_1step.index,\n",
    "                        credible_interval=75)\n",
    "ax.set_ylim([0, 25])"
   ]
  },
  {
   "cell_type": "markdown",
   "metadata": {},
   "source": [
    "## Combinations of DGLMs\n",
    "\n",
    "**XXX DESCRIBE DCMMs and DBCMs**"
   ]
  },
  {
   "cell_type": "markdown",
   "metadata": {},
   "source": [
    "## Latent Factors\n",
    "\n",
    "**DESCRIBED USING LATENT FACTORS IN MODELS**"
   ]
  },
  {
   "cell_type": "markdown",
   "metadata": {},
   "source": [
    "## Examples"
   ]
  },
  {
   "cell_type": "markdown",
   "metadata": {},
   "source": [
    "### [In-Depth Sales Forecasting Example](https://github.com/lavinei/pybats_nbdev/blob/master/examples/Poisson_DGLM_In_Depth_Example.ipynb)\n",
    "\n",
    "This example continues the analysis of retail sales, and dives into interpretation of model coefficients, especially the weekly seasonal effects. It also demonstrates how to use the PyBATS plotting functions to effectively visualize your forecasts."
   ]
  },
  {
   "cell_type": "markdown",
   "metadata": {},
   "source": [
    "### [DCMM Example with Latent Factors](https://github.com/lavinei/pybats_nbdev/blob/master/examples/DCMM%20Latent%20Factor%20Example.ipynb)\n",
    "\n",
    "This example demonstrates how to use a `dcmm` for modeling retail sales. A latent factor is derived from aggregate sales, and used to enhance forecasts for an individual item."
   ]
  },
  {
   "cell_type": "markdown",
   "metadata": {},
   "source": [
    "### [DBCM Example with Latent Factors](https://github.com/lavinei/pybats_nbdev/blob/master/examples/DBCM%20Latent%20Factor%20Example.ipynb)\n",
    "\n",
    "This example demonstrates how to use a `dbcm` for modeling retail sales. A latent factor is derived from aggregate sales, and used to enhance forecasts for an individual item."
   ]
  },
  {
   "cell_type": "code",
   "execution_count": null,
   "metadata": {},
   "outputs": [],
   "source": []
  }
 ],
 "metadata": {
  "kernelspec": {
   "display_name": "Python 3",
   "language": "python",
   "name": "python3"
  }
 },
 "nbformat": 4,
 "nbformat_minor": 2
}
