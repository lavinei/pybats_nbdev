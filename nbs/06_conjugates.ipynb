{
 "cells": [
  {
   "cell_type": "code",
   "execution_count": null,
   "metadata": {},
   "outputs": [
    {
     "name": "stdout",
     "output_type": "stream",
     "text": [
      "The autoreload extension is already loaded. To reload it, use:\n",
      "  %reload_ext autoreload\n"
     ]
    }
   ],
   "source": [
    "%load_ext autoreload\n",
    "%autoreload 2"
   ]
  },
  {
   "cell_type": "code",
   "execution_count": null,
   "metadata": {},
   "outputs": [],
   "source": [
    "# default_exp conjugates"
   ]
  },
  {
   "cell_type": "markdown",
   "metadata": {},
   "source": [
    "# Conjugates\n",
    "\n",
    "> This module contains scripts to pre-calculate the variational Bayes step, which is the most computationally demanding step in DGLM updating and forecasting.\n",
    "\n",
    "This module shouldn't be directly accessed by users."
   ]
  },
  {
   "cell_type": "code",
   "execution_count": null,
   "metadata": {},
   "outputs": [],
   "source": [
    "#exporti\n",
    "import numpy as np\n",
    "\n",
    "from scipy.special import digamma\n",
    "from scipy import optimize as opt\n",
    "from functools import partial\n",
    "\n",
    "from pybats_nbdev.shared import trigamma, load_interpolators, load_sales_example\n",
    "\n",
    "import pickle\n",
    "import zlib\n",
    "import os"
   ]
  },
  {
   "cell_type": "code",
   "execution_count": null,
   "metadata": {},
   "outputs": [],
   "source": [
    "#export\n",
    "def beta_approx(x, ft, qt):\n",
    "    x = x ** 2\n",
    "    return np.array([digamma(x[0]) - digamma(x[1]) - ft,\n",
    "                     trigamma(x=x[0]) + trigamma(x=x[1]) - qt]).reshape(-1)"
   ]
  },
  {
   "cell_type": "code",
   "execution_count": null,
   "metadata": {},
   "outputs": [],
   "source": [
    "#export\n",
    "def gamma_approx(x, ft, qt):\n",
    "    x = x ** 2\n",
    "    return np.array([digamma(x[0]) - np.log(x[1]) - ft, trigamma(x=x[0]) - qt]).reshape(-1)"
   ]
  },
  {
   "cell_type": "code",
   "execution_count": null,
   "metadata": {},
   "outputs": [],
   "source": [
    "#export\n",
    "def gamma_alpha_approx(x, qt):\n",
    "    x = x**2\n",
    "    return np.array([trigamma(x=x[0]) - qt]).reshape(-1)"
   ]
  },
  {
   "cell_type": "code",
   "execution_count": null,
   "metadata": {},
   "outputs": [],
   "source": [
    "#export\n",
    "def pois_alpha_param(qt, alpha=1.):\n",
    "    sol = opt.root(partial(gamma_alpha_approx, qt=qt), x0=np.sqrt(np.array([alpha])), method='lm')\n",
    "    return sol.x ** 2"
   ]
  },
  {
   "cell_type": "code",
   "execution_count": null,
   "metadata": {},
   "outputs": [],
   "source": [
    "#export\n",
    "def gamma_solver(ft, qt, alpha=1., beta=1.):\n",
    "\n",
    "    # If q_t is is small, can use an approximation\n",
    "    if qt < 0.0001:\n",
    "        alpha = 1/qt\n",
    "        beta = np.exp(digamma(alpha) - ft)\n",
    "        return np.array([alpha, beta])\n",
    "\n",
    "    # all else fails, do the optimization for alpha, followed by an exact soln for beta\n",
    "    alpha = pois_alpha_param(qt)[0]\n",
    "    beta = np.exp(digamma(alpha) - ft)\n",
    "    return np.array([alpha, beta])"
   ]
  },
  {
   "cell_type": "code",
   "execution_count": null,
   "metadata": {},
   "outputs": [],
   "source": [
    "#export\n",
    "def beta_solver(ft, qt, alpha=1., beta=1.):\n",
    "\n",
    "    # If qt is small, likely consistent with a large alpha, beta - can use an approximation\n",
    "    # Ref: West & Harrison, pg. 530\n",
    "    alpha = (1 / qt) * (1 + np.exp(ft))\n",
    "    beta = (1 / qt) * (1 + np.exp(-ft))\n",
    "    if qt < 0.0025:\n",
    "        return np.array([alpha, beta])\n",
    "\n",
    "\n",
    "    # all else fails, do the optimization\n",
    "    sol = opt.root(partial(beta_approx, ft=ft, qt=qt), x0=np.sqrt(np.array([alpha, beta])), method='lm')\n",
    "    return sol.x ** 2"
   ]
  },
  {
   "cell_type": "code",
   "execution_count": null,
   "metadata": {},
   "outputs": [],
   "source": [
    "#export\n",
    "# generic conj function\n",
    "def conj_params(ft, qt, alpha=1., beta=1., interp=False, solver_fn=None, interp_fn=None):\n",
    "    # the shape of these can vary a lot, so standardizing here.\n",
    "    ft, qt = np.ravel(ft)[0], np.ravel(qt)[0]\n",
    "\n",
    "    # do we want to interpolate?\n",
    "    if interp and interp_fn is not None:\n",
    "        # we may be asking for a value that's outside the interp range\n",
    "        if interp_fn.ft_lb < ft < interp_fn.ft_ub and \\\n",
    "                interp_fn.qt_lb**2 < qt < interp_fn.qt_ub**2:\n",
    "            return interp_fn(ft, qt)\n",
    "    # all else fails, do the optimization\n",
    "    return solver_fn(ft, qt, alpha, beta)"
   ]
  },
  {
   "cell_type": "code",
   "execution_count": null,
   "metadata": {},
   "outputs": [],
   "source": [
    "#exporti\n",
    "interp_beta, interp_gamma = load_interpolators()\n",
    "assert interp_beta is not None\n",
    "assert interp_gamma is not None"
   ]
  },
  {
   "cell_type": "code",
   "execution_count": null,
   "metadata": {},
   "outputs": [],
   "source": [
    "#export\n",
    "# specific conjugate params functions\n",
    "bern_conjugate_params = partial(conj_params, solver_fn=beta_solver, interp_fn=interp_beta, interp=True)\n",
    "pois_conjugate_params = partial(conj_params, solver_fn=gamma_solver, interp_fn=interp_gamma, interp=True)\n",
    "bin_conjugate_params = partial(conj_params, solver_fn=beta_solver, interp_fn=interp_beta, interp=True)"
   ]
  },
  {
   "cell_type": "code",
   "execution_count": null,
   "metadata": {},
   "outputs": [
    {
     "name": "stdout",
     "output_type": "stream",
     "text": [
      "Converted 00_dglm.ipynb.\n",
      "Converted 01_update.ipynb.\n",
      "Converted 02_forecast.ipynb.\n",
      "Converted 03_define_models.ipynb.\n",
      "Converted 04_seasonal.ipynb.\n",
      "Converted 05_analysis.ipynb.\n",
      "Converted 06_conjugates.ipynb.\n",
      "Converted 07_point_forecast.ipynb.\n",
      "Converted 08_loss_functions.ipynb.\n",
      "Converted 09_plot.ipynb.\n",
      "Converted 10_shared.ipynb.\n",
      "Converted 11_dcmm.ipynb.\n",
      "Converted 12_dbcm.ipynb.\n",
      "Converted 13_latent_factor.ipynb.\n",
      "Converted 14_latent_factor_fxns.ipynb.\n",
      "Converted index.ipynb.\n"
     ]
    }
   ],
   "source": [
    "#hide\n",
    "from nbdev.export import notebook2script\n",
    "notebook2script()"
   ]
  },
  {
   "cell_type": "code",
   "execution_count": null,
   "metadata": {},
   "outputs": [],
   "source": []
  }
 ],
 "metadata": {
  "kernelspec": {
   "display_name": "Python 3",
   "language": "python",
   "name": "python3"
  }
 },
 "nbformat": 4,
 "nbformat_minor": 4
}
