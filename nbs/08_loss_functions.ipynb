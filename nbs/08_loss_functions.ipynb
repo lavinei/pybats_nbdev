{
 "cells": [
  {
   "cell_type": "code",
   "execution_count": null,
   "metadata": {},
   "outputs": [],
   "source": [
    "%load_ext autoreload\n",
    "%autoreload 2"
   ]
  },
  {
   "cell_type": "code",
   "execution_count": null,
   "metadata": {},
   "outputs": [],
   "source": [
    "# default_exp loss_functions"
   ]
  },
  {
   "cell_type": "markdown",
   "metadata": {},
   "source": [
    "# loss_functions\n",
    "\n",
    "> This module contains standard loss functions (error metrics) given a set of observations and point forecasts."
   ]
  },
  {
   "cell_type": "code",
   "execution_count": null,
   "metadata": {},
   "outputs": [],
   "source": []
  },
  {
   "cell_type": "code",
   "execution_count": null,
   "metadata": {},
   "outputs": [],
   "source": [
    "#hide\n",
    "#exporti\n",
    "import numpy as np"
   ]
  },
  {
   "cell_type": "code",
   "execution_count": null,
   "metadata": {},
   "outputs": [],
   "source": [
    "#export\n",
    "def MSE(y, f):\n",
    "    \"\"\"\n",
    "    Mean squared error (MSE).\n",
    "\n",
    "    .. math:: MSE(y, f) = \\\\frac{1}{n} \\sum_{i=1:n} (y_i-f_i)^2\n",
    "\n",
    "    The optimal point forecast to minimize the MSE is the mean.\n",
    "\n",
    "    .. code::\n",
    "\n",
    "        k = 1\n",
    "        MSE(y[forecast_start + k - 1:forecast_end + k], mean(samples))\n",
    "\n",
    "    :param y: Observation vector\n",
    "    :param f: Point forecast vector\n",
    "    :return: Mean squared error (MSE)\n",
    "    \"\"\"\n",
    "\n",
    "    y = np.ravel(y)\n",
    "    f = np.ravel(f)\n",
    "    return np.mean((y - f)**2)"
   ]
  },
  {
   "cell_type": "code",
   "execution_count": null,
   "metadata": {},
   "outputs": [],
   "source": [
    "#export\n",
    "def MAD(y, f):\n",
    "    \"\"\"\n",
    "    Mean absolute deviation (MAD).\n",
    "\n",
    "    .. math:: MAD(y, f) = \\\\frac{1}{n} \\sum_{i=1:n} |y_i-f_i|\n",
    "\n",
    "    The optimal point forecast to minimize the MAD is the median.\n",
    "\n",
    "    .. code::\n",
    "\n",
    "        k = 1\n",
    "        MAD(y[forecast_start + k - 1:forecast_end + k], median(samples))\n",
    "\n",
    "    :param y: Observation vector\n",
    "    :param f: Point forecast vector\n",
    "    :return: Mean absolute deviation (MAD)\n",
    "    \"\"\"\n",
    "\n",
    "    y = np.ravel(y)\n",
    "    f = np.ravel(f)\n",
    "    return np.mean(np.abs(y-f))"
   ]
  },
  {
   "cell_type": "code",
   "execution_count": null,
   "metadata": {},
   "outputs": [],
   "source": [
    "#export\n",
    "def MAPE(y, f):\n",
    "    \"\"\"\n",
    "    Mean absolute percent error (MAPE).\n",
    "\n",
    "    .. math:: MAPE(y, f) = \\\\frac{1}{n} \\sum_{i=1:n} |y_i-f_i| / y_i\n",
    "\n",
    "    The optimal point forecast to minimize the MAPE is the (-1)-median. However, it is common to use the median point forecast, which is similar.\n",
    "\n",
    "    .. code::\n",
    "\n",
    "        k = 1\n",
    "        MAPE(y[forecast_start + k - 1:forecast_end + k], m_one_median(samples))\n",
    "\n",
    "    :param y: Observation vector\n",
    "    :param f: Point forecast vector\n",
    "    :return: Mean absolute percent error (MAPE)\n",
    "    \"\"\"\n",
    "    y = np.ravel(y)\n",
    "    f = np.ravel(f)\n",
    "    return 100*np.mean(np.abs((y - f)) / y)"
   ]
  },
  {
   "cell_type": "code",
   "execution_count": null,
   "metadata": {},
   "outputs": [],
   "source": [
    "#export\n",
    "def WAPE(y, f):\n",
    "    \"\"\"\n",
    "    Weighted Absolute Percent Error (WAPE).\n",
    "\n",
    "    .. math:: WAPE(y, f) =  \\\\frac{\\sum_{i=1:n} |y_i-f_i|}{\\sum_{i=1:n} y_i}\n",
    "\n",
    "    The weighted absolute percent error solves the issues of division by 0 in the MAPE.\n",
    "\n",
    "    The optimal point forecase to minimize the WAPE is the joint (-1)-median.\n",
    "\n",
    "    .. code::\n",
    "\n",
    "        k = 1\n",
    "        WAPE(y[forecast_start + k - 1:forecast_end + k], joint_m_one_median(samples))\n",
    "\n",
    "    :param y: Observation vector\n",
    "    :param f: Point forecast vector\n",
    "    :return: Weighted absolute percent error (WAPE)\n",
    "    \"\"\"\n",
    "\n",
    "    y = np.ravel(y)\n",
    "    f = np.ravel(f)\n",
    "    return 100*np.sum(np.abs(y-f)) / np.sum(y)"
   ]
  },
  {
   "cell_type": "code",
   "execution_count": null,
   "metadata": {},
   "outputs": [],
   "source": [
    "#export\n",
    "def WAFE(y, f):\n",
    "    \"\"\"\n",
    "    Weighted Absolute Forecast Error (WAFE).\n",
    "\n",
    "    .. math:: WAFE(y, f) =  \\\\frac{\\sum_{i=1:n} |y_i-f_i|}{\\sum_{i=1:n} \\\\frac{1}{2}(y_i + f_i)}\n",
    "\n",
    "    Similar to WAPE, the weighted absolute forecast error solves the issues of division by 0 in the MAPE.\n",
    "    It  balances between the observations (:math:`y_i`) and forecasts (:math:`f_i`) in the denominator.\n",
    "\n",
    "    .. code::\n",
    "\n",
    "        k = 1\n",
    "        WAFE(y[forecast_start + k - 1:forecast_end + k], median(samples))\n",
    "\n",
    "    :param y: Observation vector\n",
    "    :param f: Point forecast vector\n",
    "    :return: Weighted absolute forecast error (WAFE)\n",
    "    \"\"\"\n",
    "\n",
    "    y = np.ravel(y)\n",
    "    f = np.ravel(f)\n",
    "    return 100*np.sum(np.abs(y-f)) / ((np.sum(y) + np.sum(f))/2)"
   ]
  },
  {
   "cell_type": "code",
   "execution_count": null,
   "metadata": {},
   "outputs": [],
   "source": [
    "#export\n",
    "def ZAPE(y, f):\n",
    "    \"\"\"\n",
    "    Zero-Adjusted Absolute Percent Error (ZAPE).\n",
    "\n",
    "    .. math:: ZAPE(y, f) = \\\\frac{1}{n} \\sum_{i=1:n} I(y_i = 0) * f_i + I(y_i = 1) * |y_i-f_i| / y_i\n",
    "\n",
    "    The zero-adjusted absolute percent error is an similar to absolute percent error (APE), but sets the loss equal to :math:`f_i` when :math:`y_i=0`, to avoid division by 0.\n",
    "\n",
    "    Finding the optimal point forecast for ZAPE requires a simple numerical optimization, and lies between the median and (-1)-median.\n",
    "\n",
    "    .. code::\n",
    "\n",
    "        k = 1\n",
    "        ZAPE(y[forecast_start + k - 1:forecast_end + k], median(samples))\n",
    "\n",
    "    :param y: Observation vector\n",
    "    :param f: Point forecast vector\n",
    "    :return: The mean Zero-Adjusted absolute percent error (ZAPE)\n",
    "    \"\"\"\n",
    "\n",
    "    y = np.ravel(y)\n",
    "    f = np.ravel(f)\n",
    "    nonzeros = y.nonzero()[0]\n",
    "    n = len(y)\n",
    "    loss = np.copy(f)\n",
    "    loss[nonzeros] = np.abs(y[nonzeros] - f[nonzeros]) / y[nonzeros]\n",
    "    return 100*np.mean(loss)"
   ]
  },
  {
   "cell_type": "code",
   "execution_count": null,
   "metadata": {},
   "outputs": [],
   "source": [
    "#export\n",
    "def scaledMSE(y, f, ymean = None):\n",
    "    y = np.ravel(y)\n",
    "    f = np.ravel(f)\n",
    "    if ymean is None:\n",
    "        # First check if the 'y' vector is longer than f\n",
    "        ny = len(y)\n",
    "        nf = len(f)\n",
    "        ymean = np.cumsum(y) / np.arange(1, ny+1)\n",
    "        # Assume that the forecasts and y vector terminate at the same point\n",
    "        y = y[-nf:]\n",
    "        ymean = ymean[-nf:]\n",
    "    return np.mean(((y.reshape(-1) - f.reshape(-1)) ** 2 / (ymean.reshape(-1) ** 2)))"
   ]
  },
  {
   "cell_type": "code",
   "execution_count": null,
   "metadata": {},
   "outputs": [],
   "source": [
    "#hide\n",
    "from nbdev.export import notebook2script\n",
    "notebook2script()"
   ]
  }
 ],
 "metadata": {
  "kernelspec": {
   "display_name": "Python 3",
   "language": "python",
   "name": "python3"
  }
 },
 "nbformat": 4,
 "nbformat_minor": 4
}
