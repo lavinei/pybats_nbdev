{
 "cells": [
  {
   "cell_type": "markdown",
   "metadata": {},
   "source": [
    "# Latent Factor DBCM Analysis"
   ]
  },
  {
   "cell_type": "markdown",
   "metadata": {},
   "source": [
    "This example highlights several advanced modeling strategies. \n",
    "\n",
    "\n",
    "**Dynamic Binary Cascade Model**\n",
    "\n",
    "The first is a Dynamic Binary Cascade Model (DBCM), which is the combination a Dynamic Count Mixture Model (DCMM) and a binary cascade (Berry et. al. 2020). When modeling sales in a retail setting, the DCMM (Berry and West, 2019) is used to model the number of transactions involving an item, and the binary cascade models the quantity purchased by each customer. The DCMM models the transactions as a mixture of a Bernoulli and Poisson DGLM:"
   ]
  },
  {
   "cell_type": "markdown",
   "metadata": {},
   "source": [
    "\\begin{equation} \\label{eqn-dcmm}\n",
    "z_t \\sim Ber(\\pi_t) \\text{ and } y_t \\mid z_t =\n",
    "\\begin{cases}\n",
    "0, & \\text{if } z_t = 0,\\\\\n",
    "1 + x_t, \\quad x_t \\sim Po(\\mu_t), & \\text{if }z_t = 1\n",
    "\\end{cases}\n",
    "\\end{equation}"
   ]
  },
  {
   "cell_type": "markdown",
   "metadata": {},
   "source": [
    "where $\\pi_t$ and $\\mu_t$ vary according to the dynamics of independent Bernoulli and Poisson DGLMs respectively:"
   ]
  },
  {
   "cell_type": "markdown",
   "metadata": {},
   "source": [
    "\\begin{equation*}\n",
    "\\text{logit}(\\pi_t) = \\mathbf{F}_{ber, t}^{'}\\boldsymbol{\\theta}_{ber, t} \\qquad \\text{and} \\qquad \\text{log}(\\mu_t) = \\mathbf{F}_{Po, t}^{'} \\boldsymbol{\\theta}_{Po, t}\n",
    "\\end{equation*}"
   ]
  },
  {
   "cell_type": "markdown",
   "metadata": {},
   "source": [
    "A DCMM is useful to capture a higher prevalence of $0$ outcomes than in a standard Poisson DGLM."
   ]
  },
  {
   "cell_type": "markdown",
   "metadata": {},
   "source": [
    "Transactions are related to sales by modeling the number of units bought in each transaction. Recognizing that sales outliers often occur due to shoppers buying many units of an item, the probability of each quantity is modeled with a binary cascade. Let $n_{r,t}$ be the number of transactions with more than $r$ units. Then $n_{r,t} | n_{r-1, t} \\sim Bin(n_{r-1,t}, \\pi_{r,t})$ is defined by a binomial DGLM. This cascade of binomial DGLMs represents the sequence of conditional probabilities for purchasing $n$ units or greater, given that the shopper has bought $n-1$. This implies the following expression for sales $y_t$:\n",
    "\n",
    "\\begin{equation}\\label{eqn-dbcm}\n",
    "y_t =\n",
    "\\begin{cases}\n",
    "0, & \\text{if } z_t = 0,\\\\\n",
    "\\sum_{r=1:d} r(n_{r-1, t} - n_{r,t}) + e_t, & \\text{if }z_t = 1,\n",
    "\\end{cases}\n",
    "\\end{equation}\n",
    "where $d$ is the predefined length of the cascade and $e_t$ represents excess units greater than $d$. The cascade enables modeling of very small probabilities, in the rare cases when shoppers purchase large quantities of an item on a single grocery store trip."
   ]
  },
  {
   "cell_type": "markdown",
   "metadata": {},
   "source": [
    "**Latent Factors**\n",
    "\n",
    "The second strategy in this example is the use of *latent factors* for multiscale modeling. This example features simulated data from a retail sales setting. There is data for an item, and also for total sales at the store. The total sales are smoother and more predictable than the item level sales. A model is fit to the total sales which includes a day-of-week seasonal effect. This seasonal effect is extracted from the model on total sales, and used as a predictor in the item level model.\n",
    "\n",
    "Modeling effects at different levels of a hierarchy - aka multiscale modeling - can improve forecast accuracy, because the sales of an individual can be very noisy, making it difficult to learn accurate patterns."
   ]
  },
  {
   "cell_type": "markdown",
   "metadata": {},
   "source": [
    "**Copula Forecasting**\n",
    "\n",
    "In this example we are focusing on forecasting retail sales *1* through *14* days into the future. To do this, we will simulate from the joint forecast distribution *1:14* days into the future. This is accomplished in an efficient manner through the use of a Copula, which accounts for dependence in the forecasts across days into the future."
   ]
  },
  {
   "cell_type": "code",
   "execution_count": null,
   "metadata": {},
   "outputs": [],
   "source": [
    "import numpy as np\n",
    "import pandas as pd\n",
    "import matplotlib.pyplot as plt"
   ]
  },
  {
   "cell_type": "code",
   "execution_count": null,
   "metadata": {},
   "outputs": [],
   "source": [
    "from pybats_nbdev.analysis import analysis, analysis_dbcm\n",
    "from pybats_nbdev.latent_factor import seas_weekly_lf\n",
    "from pybats_nbdev.shared import load_dbcm_latent_factor_example\n",
    "from pybats_nbdev.plot import plot_data_forecast\n",
    "from pybats_nbdev.point_forecast import median\n",
    "from pybats_nbdev.loss_functions import MAD"
   ]
  },
  {
   "cell_type": "markdown",
   "metadata": {},
   "source": [
    "We start by loading the simulated retail sales data.\n",
    "\n",
    "The dataframe 'totaldata' has the total daily sales in a store, along with a predictor, which represents a measure of average price.\n",
    "\n",
    "The dataframe 'data' is the sales of a single item, and has two predictors. 'X_transaction' is a measure of price, and will be used in as a predictor in the DCMM. 'X_cascade' is a binary indicator of whether the item is being promoted within the store, and is used as a predictor in the binary cascade within the DBCM."
   ]
  },
  {
   "cell_type": "code",
   "execution_count": null,
   "metadata": {},
   "outputs": [],
   "source": [
    "data = load_dbcm_latent_factor_example()\n",
    "totaldata, data = data.values()\n",
    "totaldata['Y'] = np.log(totaldata['Y'] + 1)"
   ]
  },
  {
   "cell_type": "code",
   "execution_count": null,
   "metadata": {},
   "outputs": [
    {
     "data": {
      "text/html": [
       "<div>\n",
       "<style scoped>\n",
       "    .dataframe tbody tr th:only-of-type {\n",
       "        vertical-align: middle;\n",
       "    }\n",
       "\n",
       "    .dataframe tbody tr th {\n",
       "        vertical-align: top;\n",
       "    }\n",
       "\n",
       "    .dataframe thead th {\n",
       "        text-align: right;\n",
       "    }\n",
       "</style>\n",
       "<table border=\"1\" class=\"dataframe\">\n",
       "  <thead>\n",
       "    <tr style=\"text-align: right;\">\n",
       "      <th></th>\n",
       "      <th>Y</th>\n",
       "      <th>X</th>\n",
       "    </tr>\n",
       "  </thead>\n",
       "  <tbody>\n",
       "    <tr>\n",
       "      <th>2014-06-01</th>\n",
       "      <td>5.746203</td>\n",
       "      <td>0.793644</td>\n",
       "    </tr>\n",
       "    <tr>\n",
       "      <th>2014-06-02</th>\n",
       "      <td>5.375278</td>\n",
       "      <td>-0.762627</td>\n",
       "    </tr>\n",
       "    <tr>\n",
       "      <th>2014-06-03</th>\n",
       "      <td>5.375278</td>\n",
       "      <td>-0.752116</td>\n",
       "    </tr>\n",
       "    <tr>\n",
       "      <th>2014-06-04</th>\n",
       "      <td>5.613128</td>\n",
       "      <td>-0.791505</td>\n",
       "    </tr>\n",
       "    <tr>\n",
       "      <th>2014-06-05</th>\n",
       "      <td>5.429346</td>\n",
       "      <td>-0.496851</td>\n",
       "    </tr>\n",
       "  </tbody>\n",
       "</table>\n",
       "</div>"
      ],
      "text/plain": [
       "                   Y         X\n",
       "2014-06-01  5.746203  0.793644\n",
       "2014-06-02  5.375278 -0.762627\n",
       "2014-06-03  5.375278 -0.752116\n",
       "2014-06-04  5.613128 -0.791505\n",
       "2014-06-05  5.429346 -0.496851"
      ]
     },
     "execution_count": null,
     "metadata": {},
     "output_type": "execute_result"
    }
   ],
   "source": [
    "totaldata.head()"
   ]
  },
  {
   "cell_type": "code",
   "execution_count": null,
   "metadata": {},
   "outputs": [
    {
     "data": {
      "text/html": [
       "<div>\n",
       "<style scoped>\n",
       "    .dataframe tbody tr th:only-of-type {\n",
       "        vertical-align: middle;\n",
       "    }\n",
       "\n",
       "    .dataframe tbody tr th {\n",
       "        vertical-align: top;\n",
       "    }\n",
       "\n",
       "    .dataframe thead th {\n",
       "        text-align: right;\n",
       "    }\n",
       "</style>\n",
       "<table border=\"1\" class=\"dataframe\">\n",
       "  <thead>\n",
       "    <tr style=\"text-align: right;\">\n",
       "      <th></th>\n",
       "      <th>Sales</th>\n",
       "      <th>Y_transaction</th>\n",
       "      <th>X_transaction</th>\n",
       "      <th>mt1</th>\n",
       "      <th>mt2</th>\n",
       "      <th>mt3</th>\n",
       "      <th>mt4</th>\n",
       "      <th>X_cascade</th>\n",
       "      <th>excess</th>\n",
       "    </tr>\n",
       "  </thead>\n",
       "  <tbody>\n",
       "    <tr>\n",
       "      <th>2014-06-01</th>\n",
       "      <td>7.0</td>\n",
       "      <td>6.0</td>\n",
       "      <td>0.376729</td>\n",
       "      <td>1.0</td>\n",
       "      <td>0.0</td>\n",
       "      <td>0.0</td>\n",
       "      <td>0.0</td>\n",
       "      <td>0</td>\n",
       "      <td>[]</td>\n",
       "    </tr>\n",
       "    <tr>\n",
       "      <th>2014-06-02</th>\n",
       "      <td>3.0</td>\n",
       "      <td>3.0</td>\n",
       "      <td>1.797680</td>\n",
       "      <td>0.0</td>\n",
       "      <td>0.0</td>\n",
       "      <td>0.0</td>\n",
       "      <td>0.0</td>\n",
       "      <td>1</td>\n",
       "      <td>[]</td>\n",
       "    </tr>\n",
       "    <tr>\n",
       "      <th>2014-06-03</th>\n",
       "      <td>9.0</td>\n",
       "      <td>7.0</td>\n",
       "      <td>-1.687661</td>\n",
       "      <td>2.0</td>\n",
       "      <td>0.0</td>\n",
       "      <td>0.0</td>\n",
       "      <td>0.0</td>\n",
       "      <td>1</td>\n",
       "      <td>[]</td>\n",
       "    </tr>\n",
       "    <tr>\n",
       "      <th>2014-06-04</th>\n",
       "      <td>11.0</td>\n",
       "      <td>10.0</td>\n",
       "      <td>-0.188624</td>\n",
       "      <td>1.0</td>\n",
       "      <td>0.0</td>\n",
       "      <td>0.0</td>\n",
       "      <td>0.0</td>\n",
       "      <td>0</td>\n",
       "      <td>[]</td>\n",
       "    </tr>\n",
       "    <tr>\n",
       "      <th>2014-06-05</th>\n",
       "      <td>5.0</td>\n",
       "      <td>4.0</td>\n",
       "      <td>0.684483</td>\n",
       "      <td>1.0</td>\n",
       "      <td>0.0</td>\n",
       "      <td>0.0</td>\n",
       "      <td>0.0</td>\n",
       "      <td>1</td>\n",
       "      <td>[]</td>\n",
       "    </tr>\n",
       "  </tbody>\n",
       "</table>\n",
       "</div>"
      ],
      "text/plain": [
       "            Sales  Y_transaction  X_transaction  mt1  mt2  mt3  mt4  \\\n",
       "2014-06-01    7.0            6.0       0.376729  1.0  0.0  0.0  0.0   \n",
       "2014-06-02    3.0            3.0       1.797680  0.0  0.0  0.0  0.0   \n",
       "2014-06-03    9.0            7.0      -1.687661  2.0  0.0  0.0  0.0   \n",
       "2014-06-04   11.0           10.0      -0.188624  1.0  0.0  0.0  0.0   \n",
       "2014-06-05    5.0            4.0       0.684483  1.0  0.0  0.0  0.0   \n",
       "\n",
       "            X_cascade excess  \n",
       "2014-06-01          0     []  \n",
       "2014-06-02          1     []  \n",
       "2014-06-03          1     []  \n",
       "2014-06-04          0     []  \n",
       "2014-06-05          1     []  "
      ]
     },
     "execution_count": null,
     "metadata": {},
     "output_type": "execute_result"
    }
   ],
   "source": [
    "data.head()"
   ]
  },
  {
   "cell_type": "markdown",
   "metadata": {},
   "source": [
    "Here we define hyper parameters for the analysis:\n",
    "-  *rho* is a discount factor which calibrates the forecast distribution. A value of *rho* less than $1$ increases the forecast variance. \n",
    "\n",
    "- *k* is the number of days ahead to forecast.\n",
    "\n",
    "- *nsamps* is the number of forecast samples to draw.\n",
    "\n",
    "- *prior_length* is the number of days of data to use when defining the priors for model coefficients."
   ]
  },
  {
   "cell_type": "code",
   "execution_count": null,
   "metadata": {},
   "outputs": [],
   "source": [
    "#Define hyper parameters\n",
    "rho = .2  # rho must be greater than 0, and is typically < 1. A smaller rho widens the forecast distribution.\n",
    "k = 14 # Number of days ahead that we will forecast\n",
    "nsamps = 200\n",
    "prior_length = 21"
   ]
  },
  {
   "cell_type": "markdown",
   "metadata": {},
   "source": [
    "Next, we define the window of time that we want to forecast over. For each day within this time period, the model will sample from the path (joint) forecast distribution *1:k* days into the future."
   ]
  },
  {
   "cell_type": "code",
   "execution_count": null,
   "metadata": {},
   "outputs": [],
   "source": [
    "# Define the forecast range\n",
    "T = len(totaldata)\n",
    "forecast_end_date = totaldata.index[-k]\n",
    "forecast_start_date = forecast_end_date - pd.DateOffset(days=365)"
   ]
  },
  {
   "cell_type": "markdown",
   "metadata": {},
   "source": [
    "The first analysis is run on the 'totaldata', which is used to learn a latent factor. In this case, we fit a normal DLM to the log of total sales in order to learn the weekly season effect, which is stored in the latent factor."
   ]
  },
  {
   "cell_type": "code",
   "execution_count": null,
   "metadata": {},
   "outputs": [
    {
     "name": "stdout",
     "output_type": "stream",
     "text": [
      "beginning forecasting\n"
     ]
    }
   ],
   "source": [
    "# Get multiscale signal (a latent factor) from higher level log-normal model\n",
    "latent_factor = analysis(totaldata['Y'].values, totaldata['X'].values, k,\n",
    "                         forecast_start_date, forecast_end_date, dates=totaldata.index,\n",
    "                         seasPeriods=[7], seasHarmComponents=[[1,2,3]],\n",
    "                         family=\"normal\", ret=['new_latent_factors'], new_latent_factors= [seas_weekly_lf.copy()],\n",
    "                         prior_length=prior_length)"
   ]
  },
  {
   "cell_type": "markdown",
   "metadata": {},
   "source": [
    "The second analysis is performed on 'data', which is the simulated sales of a single item. The latent factor is used to inform on the sales of this item. On each day, a copula is used to draw joint forecast samples from *1:k* days ahead."
   ]
  },
  {
   "cell_type": "code",
   "execution_count": null,
   "metadata": {},
   "outputs": [
    {
     "name": "stdout",
     "output_type": "stream",
     "text": [
      "beginning forecasting\n"
     ]
    }
   ],
   "source": [
    "# Update and forecast the model\n",
    "mod, forecast_samples = analysis_dbcm(data['Y_transaction'].values.reshape(-1), data['X_transaction'].values.reshape(-1,1), \n",
    "                                 data[['mt1', 'mt2', 'mt3', 'mt4']].values, data['X_cascade'].values.reshape(-1,1),\n",
    "                                 data['excess'].values,\n",
    "                                 forecast_start=forecast_start_date, forecast_end=forecast_end_date,\n",
    "                                 prior_length=prior_length, k=k, \n",
    "                                 nsamps=nsamps, rho=rho,\n",
    "                                 latent_factor=latent_factor, dates = data.index,\n",
    "                                 delregn_pois=.98)"
   ]
  },
  {
   "cell_type": "markdown",
   "metadata": {},
   "source": [
    "Finally, we can examine the results, first by plotting both the *1-* and *14-* step ahead forecasts:"
   ]
  },
  {
   "cell_type": "code",
   "execution_count": null,
   "metadata": {},
   "outputs": [
    {
     "data": {
      "image/png": "[encoded data removed]",
      "text/plain": [
       "<Figure size 576x288 with 1 Axes>"
      ]
     },
     "metadata": {
      "needs_background": "light"
     },
     "output_type": "display_data"
    }
   ],
   "source": [
    "forecast = median(forecast_samples)\n",
    "\n",
    "horizon = 1\n",
    "plot_length = 50\n",
    "fig, ax = plt.subplots(figsize=(8,4))\n",
    "start_date = forecast_end_date + pd.DateOffset(horizon - plot_length)\n",
    "end_date = forecast_end_date + pd.DateOffset(horizon - 1)\n",
    "ax = plot_data_forecast(fig, ax, data.loc[start_date:end_date].Sales,\n",
    "                        forecast[-plot_length:,horizon - 1],\n",
    "                        forecast_samples[:,-plot_length:,horizon - 1],\n",
    "                        data.loc[start_date:end_date].index,\n",
    "                        linewidth = 2)"
   ]
  },
  {
   "cell_type": "code",
   "execution_count": null,
   "metadata": {},
   "outputs": [
    {
     "data": {
      "image/png": "[encoded data removed]",
      "text/plain": [
       "<Figure size 576x288 with 1 Axes>"
      ]
     },
     "metadata": {
      "needs_background": "light"
     },
     "output_type": "display_data"
    }
   ],
   "source": [
    "horizon = 14\n",
    "plot_length = 50\n",
    "fig, ax = plt.subplots(figsize=(8,4))\n",
    "start_date = forecast_end_date + pd.DateOffset(horizon - plot_length)\n",
    "end_date = forecast_end_date + pd.DateOffset(horizon - 1)\n",
    "ax = plot_data_forecast(fig, ax, data.loc[start_date:end_date].Sales,\n",
    "                        forecast[-plot_length:,horizon - 1],\n",
    "                        forecast_samples[:,-plot_length:,horizon - 1],\n",
    "                        data.loc[start_date:end_date].index,\n",
    "                        linewidth = 2)"
   ]
  },
  {
   "cell_type": "markdown",
   "metadata": {},
   "source": [
    "As well as looking at the mean absolute deviation (MAD) between the forecast median and the observations over the forecast horizons. Interestingly, there is only a small increase in the MAD for longer forecast horizons."
   ]
  },
  {
   "cell_type": "code",
   "execution_count": null,
   "metadata": {},
   "outputs": [
    {
     "data": {
      "text/plain": [
       "[3.122950819672131,\n",
       " 3.0724043715846996,\n",
       " 3.098360655737705,\n",
       " 3.0778688524590163,\n",
       " 3.0614754098360657,\n",
       " 3.133879781420765,\n",
       " 3.0655737704918034,\n",
       " 3.121584699453552,\n",
       " 3.1147540983606556,\n",
       " 3.0969945355191255,\n",
       " 3.127049180327869,\n",
       " 3.1243169398907105,\n",
       " 3.1174863387978142,\n",
       " 3.1256830601092895]"
      ]
     },
     "execution_count": null,
     "metadata": {},
     "output_type": "execute_result"
    }
   ],
   "source": [
    "# Mean absolute deviation at increasing forecast horizons\n",
    "horizons = list(range(1, k+1))\n",
    "list(map(lambda k: MAD(data.loc[forecast_start_date + pd.DateOffset(k-1):forecast_end_date + pd.DateOffset(k-1)].Sales,\n",
    "                      forecast[:,k-1]),\n",
    "         horizons))"
   ]
  },
  {
   "cell_type": "code",
   "execution_count": null,
   "metadata": {},
   "outputs": [],
   "source": []
  }
 ],
 "metadata": {
  "kernelspec": {
   "display_name": "Python 3",
   "language": "python",
   "name": "python3"
  }
 },
 "nbformat": 4,
 "nbformat_minor": 4
}
