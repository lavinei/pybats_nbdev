{
 "cells": [
  {
   "cell_type": "markdown",
   "metadata": {},
   "source": [
    "# Latent Factor DCMM Analysis"
   ]
  },
  {
   "cell_type": "markdown",
   "metadata": {},
   "source": [
    "This example highlights several advanced modeling strategies. \n",
    "\n",
    "**Dynamic Count Mixture Model**\n",
    "\n",
    "A Dynamic Count Mixture Model (DCMM) is the combination of Bernoulli and Poisson DGLMs. The Bernoulli DGLM models the probability of a zero outcome, while the Poisson models the outcome, conditional on it being non-zero (Berry and West, 2019):"
   ]
  },
  {
   "cell_type": "markdown",
   "metadata": {},
   "source": [
    "\\begin{equation} \\label{eqn-dcmm}\n",
    "z_t \\sim Ber(\\pi_t) \\text{ and } y_t \\mid z_t =\n",
    "\\begin{cases}\n",
    "0, & \\text{if } z_t = 0,\\\\\n",
    "1 + x_t, \\quad x_t \\sim Po(\\mu_t), & \\text{if }z_t = 1\n",
    "\\end{cases}\n",
    "\\end{equation}"
   ]
  },
  {
   "cell_type": "markdown",
   "metadata": {},
   "source": [
    "where $\\pi_t$ and $\\mu_t$ vary according to the dynamics of independent Bernoulli and Poisson DGLMs respectively:"
   ]
  },
  {
   "cell_type": "markdown",
   "metadata": {},
   "source": [
    "\\begin{equation*}\n",
    "\\text{logit}(\\pi_t) = \\mathbf{F}_{ber, t}^{'}\\boldsymbol{\\theta}_{ber, t} \\qquad \\text{and} \\qquad \\text{log}(\\mu_t) = \\mathbf{F}_{Po, t}^{'} \\boldsymbol{\\theta}_{Po, t}\n",
    "\\end{equation*}"
   ]
  },
  {
   "cell_type": "markdown",
   "metadata": {},
   "source": [
    "A DCMM is useful to capture a higher prevalence of $0$ outcomes than in a standard Poisson DGLM."
   ]
  },
  {
   "cell_type": "markdown",
   "metadata": {},
   "source": [
    "**Latent Factors**\n",
    "\n",
    "The second concept is the use of *latent factors* for multiscale modeling. This example features simulated data from a retail sales setting. There is data for an item, and also for total sales at the store. The total sales are smoother and more predictable than the item level sales. A model is fit to the total sales which includes a day-of-week seasonal effect. This seasonal effect is extracted from the model on total sales, and used as a predictor in the item level model.\n",
    "\n",
    "Modeling effects at different levels of a hierarchy - aka multiscale modeling - can improve forecast accuracy, because the sales of an individual can be very noisy, making it difficult to learn accurate patterns."
   ]
  },
  {
   "cell_type": "markdown",
   "metadata": {},
   "source": [
    "**Copula Forecasting**\n",
    "\n",
    "The final concept is Copula forecasting. In this example we are focusing on forecasting sales *1* through *14* days into the future. To do this, we will simulate from the joint forecast distribution *1:14* days into the future. This is accomplished in an efficient manner through the use of a Copula model, which accounts for dependence in the forecasts across days."
   ]
  },
  {
   "cell_type": "code",
   "execution_count": null,
   "metadata": {},
   "outputs": [],
   "source": [
    "import numpy as np\n",
    "import pandas as pd\n",
    "import matplotlib.pyplot as plt"
   ]
  },
  {
   "cell_type": "code",
   "execution_count": null,
   "metadata": {},
   "outputs": [
    {
     "ename": "ImportError",
     "evalue": "cannot import name 'seas_weekly_lf' from 'pybats_nbdev.latent_factor' (/Users/isaaclavine/Documents/pybats_nbdev/pybats_nbdev/latent_factor.py)",
     "output_type": "error",
     "traceback": [
      "\u001b[0;31m---------------------------------------------------------------------------\u001b[0m",
      "\u001b[0;31mImportError\u001b[0m                               Traceback (most recent call last)",
      "\u001b[0;32m<ipython-input-2-b5d1a8ce07b0>\u001b[0m in \u001b[0;36m<module>\u001b[0;34m\u001b[0m\n\u001b[1;32m      1\u001b[0m \u001b[0;32mfrom\u001b[0m \u001b[0mpybats_nbdev\u001b[0m\u001b[0;34m.\u001b[0m\u001b[0manalysis\u001b[0m \u001b[0;32mimport\u001b[0m \u001b[0manalysis\u001b[0m\u001b[0;34m,\u001b[0m \u001b[0manalysis_dcmm\u001b[0m\u001b[0;34m\u001b[0m\u001b[0;34m\u001b[0m\u001b[0m\n\u001b[0;32m----> 2\u001b[0;31m \u001b[0;32mfrom\u001b[0m \u001b[0mpybats_nbdev\u001b[0m\u001b[0;34m.\u001b[0m\u001b[0mlatent_factor\u001b[0m \u001b[0;32mimport\u001b[0m \u001b[0mseas_weekly_lf\u001b[0m\u001b[0;34m\u001b[0m\u001b[0;34m\u001b[0m\u001b[0m\n\u001b[0m\u001b[1;32m      3\u001b[0m \u001b[0;32mfrom\u001b[0m \u001b[0mpybats_nbdev\u001b[0m\u001b[0;34m.\u001b[0m\u001b[0mshared\u001b[0m \u001b[0;32mimport\u001b[0m \u001b[0mload_dcmm_latent_factor_example\u001b[0m\u001b[0;34m\u001b[0m\u001b[0;34m\u001b[0m\u001b[0m\n\u001b[1;32m      4\u001b[0m \u001b[0;32mfrom\u001b[0m \u001b[0mpybats_nbdev\u001b[0m\u001b[0;34m.\u001b[0m\u001b[0mplot\u001b[0m \u001b[0;32mimport\u001b[0m \u001b[0mplot_data_forecast\u001b[0m\u001b[0;34m\u001b[0m\u001b[0;34m\u001b[0m\u001b[0m\n\u001b[1;32m      5\u001b[0m \u001b[0;32mfrom\u001b[0m \u001b[0mpybats_nbdev\u001b[0m\u001b[0;34m.\u001b[0m\u001b[0mpoint_forecast\u001b[0m \u001b[0;32mimport\u001b[0m \u001b[0mmedian\u001b[0m\u001b[0;34m\u001b[0m\u001b[0;34m\u001b[0m\u001b[0m\n",
      "\u001b[0;31mImportError\u001b[0m: cannot import name 'seas_weekly_lf' from 'pybats_nbdev.latent_factor' (/Users/isaaclavine/Documents/pybats_nbdev/pybats_nbdev/latent_factor.py)"
     ]
    }
   ],
   "source": [
    "from pybats_nbdev.analysis import analysis, analysis_dcmm\n",
    "from pybats_nbdev.latent_factor import seas_weekly_lf\n",
    "from pybats_nbdev.shared import load_dcmm_latent_factor_example\n",
    "from pybats_nbdev.plot import plot_data_forecast\n",
    "from pybats_nbdev.point_forecast import median\n",
    "from pybats_nbdev.loss_functions import MAD"
   ]
  },
  {
   "cell_type": "markdown",
   "metadata": {},
   "source": [
    "We start by loading the simulated retail sales data.\n",
    "\n",
    "The dataframe 'totaldata' has the total daily sales in a store, along with a predictor, which represents a measure of average price.\n",
    "\n",
    "The dataframe 'data' has the sales of a single item, and along with a predictor which represents the daily change in price."
   ]
  },
  {
   "cell_type": "code",
   "execution_count": null,
   "metadata": {},
   "outputs": [],
   "source": [
    "data = load_dcmm_latent_factor_example()\n",
    "totaldata, data = data.values()\n",
    "totaldata['Y'] = np.log(totaldata['Y'] + 1)"
   ]
  },
  {
   "cell_type": "code",
   "execution_count": null,
   "metadata": {},
   "outputs": [
    {
     "data": {
      "text/html": [
       "<div>\n",
       "<style scoped>\n",
       "    .dataframe tbody tr th:only-of-type {\n",
       "        vertical-align: middle;\n",
       "    }\n",
       "\n",
       "    .dataframe tbody tr th {\n",
       "        vertical-align: top;\n",
       "    }\n",
       "\n",
       "    .dataframe thead th {\n",
       "        text-align: right;\n",
       "    }\n",
       "</style>\n",
       "<table border=\"1\" class=\"dataframe\">\n",
       "  <thead>\n",
       "    <tr style=\"text-align: right;\">\n",
       "      <th></th>\n",
       "      <th>Y</th>\n",
       "      <th>X</th>\n",
       "    </tr>\n",
       "  </thead>\n",
       "  <tbody>\n",
       "    <tr>\n",
       "      <th>2014-06-01</th>\n",
       "      <td>5.613128</td>\n",
       "      <td>-0.133124</td>\n",
       "    </tr>\n",
       "    <tr>\n",
       "      <th>2014-06-02</th>\n",
       "      <td>5.602119</td>\n",
       "      <td>-0.070102</td>\n",
       "    </tr>\n",
       "    <tr>\n",
       "      <th>2014-06-03</th>\n",
       "      <td>5.831882</td>\n",
       "      <td>1.020901</td>\n",
       "    </tr>\n",
       "    <tr>\n",
       "      <th>2014-06-04</th>\n",
       "      <td>5.393628</td>\n",
       "      <td>2.219605</td>\n",
       "    </tr>\n",
       "    <tr>\n",
       "      <th>2014-06-05</th>\n",
       "      <td>5.267858</td>\n",
       "      <td>-0.970556</td>\n",
       "    </tr>\n",
       "  </tbody>\n",
       "</table>\n",
       "</div>"
      ],
      "text/plain": [
       "                   Y         X\n",
       "2014-06-01  5.613128 -0.133124\n",
       "2014-06-02  5.602119 -0.070102\n",
       "2014-06-03  5.831882  1.020901\n",
       "2014-06-04  5.393628  2.219605\n",
       "2014-06-05  5.267858 -0.970556"
      ]
     },
     "execution_count": null,
     "metadata": {},
     "output_type": "execute_result"
    }
   ],
   "source": [
    "totaldata.head()"
   ]
  },
  {
   "cell_type": "code",
   "execution_count": null,
   "metadata": {},
   "outputs": [
    {
     "data": {
      "text/html": [
       "<div>\n",
       "<style scoped>\n",
       "    .dataframe tbody tr th:only-of-type {\n",
       "        vertical-align: middle;\n",
       "    }\n",
       "\n",
       "    .dataframe tbody tr th {\n",
       "        vertical-align: top;\n",
       "    }\n",
       "\n",
       "    .dataframe thead th {\n",
       "        text-align: right;\n",
       "    }\n",
       "</style>\n",
       "<table border=\"1\" class=\"dataframe\">\n",
       "  <thead>\n",
       "    <tr style=\"text-align: right;\">\n",
       "      <th></th>\n",
       "      <th>Y</th>\n",
       "      <th>X</th>\n",
       "    </tr>\n",
       "  </thead>\n",
       "  <tbody>\n",
       "    <tr>\n",
       "      <th>2014-06-01</th>\n",
       "      <td>14.0</td>\n",
       "      <td>2.413448</td>\n",
       "    </tr>\n",
       "    <tr>\n",
       "      <th>2014-06-02</th>\n",
       "      <td>13.0</td>\n",
       "      <td>0.989871</td>\n",
       "    </tr>\n",
       "    <tr>\n",
       "      <th>2014-06-03</th>\n",
       "      <td>7.0</td>\n",
       "      <td>-0.489734</td>\n",
       "    </tr>\n",
       "    <tr>\n",
       "      <th>2014-06-04</th>\n",
       "      <td>34.0</td>\n",
       "      <td>-1.544868</td>\n",
       "    </tr>\n",
       "    <tr>\n",
       "      <th>2014-06-05</th>\n",
       "      <td>15.0</td>\n",
       "      <td>1.639670</td>\n",
       "    </tr>\n",
       "  </tbody>\n",
       "</table>\n",
       "</div>"
      ],
      "text/plain": [
       "               Y         X\n",
       "2014-06-01  14.0  2.413448\n",
       "2014-06-02  13.0  0.989871\n",
       "2014-06-03   7.0 -0.489734\n",
       "2014-06-04  34.0 -1.544868\n",
       "2014-06-05  15.0  1.639670"
      ]
     },
     "execution_count": null,
     "metadata": {},
     "output_type": "execute_result"
    }
   ],
   "source": [
    "data.head()"
   ]
  },
  {
   "cell_type": "markdown",
   "metadata": {},
   "source": [
    "Here we define hyper parameters for the analysis:\n",
    "-  *rho* is a discount factor which calibrates the forecast distribution. A value of *rho* less than $1$ increases the forecast variance. \n",
    "\n",
    "- *k* is the number of days ahead to forecast.\n",
    "\n",
    "- *nsamps* is the number of forecast samples to draw.\n",
    "\n",
    "- *prior_length* is the number of days of data to use when defining the priors for model coefficients."
   ]
  },
  {
   "cell_type": "code",
   "execution_count": null,
   "metadata": {},
   "outputs": [],
   "source": [
    "#Define hyper parameters\n",
    "rho = .2\n",
    "k = 14 # Number of days ahead that we will forecast\n",
    "nsamps = 100\n",
    "prior_length = 21"
   ]
  },
  {
   "cell_type": "markdown",
   "metadata": {},
   "source": [
    "Next, we define the window of time that we want to forecast over. For each day within this time period, the model will sample from the path (joint) forecast distribution *1:k* days into the future."
   ]
  },
  {
   "cell_type": "code",
   "execution_count": null,
   "metadata": {},
   "outputs": [],
   "source": [
    "# Define forecast range for final year of data\n",
    "T = len(totaldata)\n",
    "forecast_end_date = totaldata.index[-k]\n",
    "forecast_start_date = forecast_end_date - pd.DateOffset(days=365)"
   ]
  },
  {
   "cell_type": "markdown",
   "metadata": {},
   "source": [
    "The first analysis is run on the 'totaldata', which is used to learn a latent factor. In this case, we fit a normal DLM to the log of total sales in order to learn the weekly season effect, which is stored in the latent factor."
   ]
  },
  {
   "cell_type": "code",
   "execution_count": null,
   "metadata": {},
   "outputs": [
    {
     "name": "stdout",
     "output_type": "stream",
     "text": [
      "beginning forecasting\n"
     ]
    }
   ],
   "source": [
    "# Get multiscale signal (a latent factor) from higher level log-normal model\n",
    "latent_factor = analysis(totaldata['Y'].values, totaldata['X'].values, k,\n",
    "                         forecast_start_date, forecast_end_date, dates=totaldata.index,\n",
    "                         seasPeriods=[7], seasHarmComponents=[[1,2,3]],\n",
    "                         family=\"normal\", ret=['new_latent_factors'], new_latent_factors= [seas_weekly_lf],\n",
    "                         prior_length=prior_length)"
   ]
  },
  {
   "cell_type": "markdown",
   "metadata": {},
   "source": [
    "The second analysis fits a DCMM to 'data', which is the simulated sales of a single item. The latent factor we derived above is used as a predictive signal for the sales of this individual item. On each day within the forecasting period, a copula is used to draw joint forecast samples *1:k* days ahead."
   ]
  },
  {
   "cell_type": "code",
   "execution_count": null,
   "metadata": {},
   "outputs": [
    {
     "name": "stdout",
     "output_type": "stream",
     "text": [
      "beginning forecasting\n"
     ]
    }
   ],
   "source": [
    "# Update and forecast the model\n",
    "forecast_samples = analysis_dcmm(data['Y'].values, data['X'].values.reshape(-1,1), prior_length, k,\n",
    "                                 forecast_start_date, forecast_end_date, nsamps, rho,\n",
    "                                 latent_factor, dates=totaldata.index)\n",
    "forecast = median(forecast_samples)"
   ]
  },
  {
   "cell_type": "markdown",
   "metadata": {},
   "source": [
    "Finally we can examine the results, first by plotting both the *1-* and *14-* step ahead forecasts. The point forecast is the median (blue line), and the forecast samples provide easy access to 95% credible intervals."
   ]
  },
  {
   "cell_type": "code",
   "execution_count": null,
   "metadata": {},
   "outputs": [
    {
     "data": {
      "image/png": "[encoded data removed]",
      "text/plain": [
       "<Figure size 576x288 with 1 Axes>"
      ]
     },
     "metadata": {
      "needs_background": "light"
     },
     "output_type": "display_data"
    }
   ],
   "source": [
    "# Plotting 1-step ahead forecasts\n",
    "\n",
    "horizon = 1 \n",
    "plot_length = 50\n",
    "fig, ax = plt.subplots(figsize=(8,4))\n",
    "start_date = forecast_end_date + pd.DateOffset(horizon - plot_length)\n",
    "end_date = forecast_end_date + pd.DateOffset(horizon - 1)\n",
    "ax = plot_data_forecast(fig, ax, data.loc[start_date:end_date].Y,\n",
    "                        forecast[-plot_length:,horizon - 1],\n",
    "                        forecast_samples[:,-plot_length:,horizon - 1],\n",
    "                        data.loc[start_date:end_date].index,\n",
    "                        linewidth = 2)"
   ]
  },
  {
   "cell_type": "code",
   "execution_count": null,
   "metadata": {},
   "outputs": [
    {
     "data": {
      "image/png": "[encoded data removed]",
      "text/plain": [
       "<Figure size 576x288 with 1 Axes>"
      ]
     },
     "metadata": {
      "needs_background": "light"
     },
     "output_type": "display_data"
    }
   ],
   "source": [
    "# Plotting 14-step ahead forecasts\n",
    "\n",
    "horizon = 14\n",
    "plot_length = 50\n",
    "fig, ax = plt.subplots(figsize=(8,4))\n",
    "start_date = forecast_end_date + pd.DateOffset(horizon - plot_length)\n",
    "end_date = forecast_end_date + pd.DateOffset(horizon - 1)\n",
    "ax = plot_data_forecast(fig, ax, data.loc[start_date:end_date].Y,\n",
    "                        forecast[-plot_length:,horizon - 1],\n",
    "                        forecast_samples[:,-plot_length:,horizon - 1],\n",
    "                        data.loc[start_date:end_date].index,\n",
    "                        linewidth = 2)"
   ]
  },
  {
   "cell_type": "markdown",
   "metadata": {},
   "source": [
    "To evaluate the point forecasts, we can look at the mean absolute deviation (MAD) across forecast horizons. Interestingly, there is only a small increase in the MAD for longer forecast horizons."
   ]
  },
  {
   "cell_type": "code",
   "execution_count": null,
   "metadata": {},
   "outputs": [
    {
     "data": {
      "text/plain": [
       "[2.8743169398907105,\n",
       " 2.878415300546448,\n",
       " 2.819672131147541,\n",
       " 2.872950819672131,\n",
       " 2.871584699453552,\n",
       " 2.8169398907103824,\n",
       " 2.842896174863388,\n",
       " 2.8825136612021858,\n",
       " 2.900273224043716,\n",
       " 2.901639344262295,\n",
       " 2.842896174863388,\n",
       " 2.8565573770491803,\n",
       " 2.8155737704918034,\n",
       " 2.879781420765027]"
      ]
     },
     "execution_count": null,
     "metadata": {},
     "output_type": "execute_result"
    }
   ],
   "source": [
    "# Mean absolute deviation at increasing forecast horizons\n",
    "horizons = list(range(1, k+1))\n",
    "list(map(lambda k: MAD(data.loc[forecast_start_date + pd.DateOffset(k-1):forecast_end_date + pd.DateOffset(k-1)].Y,\n",
    "                      forecast[:,k-1]),\n",
    "         horizons))"
   ]
  },
  {
   "cell_type": "code",
   "execution_count": null,
   "metadata": {},
   "outputs": [],
   "source": []
  }
 ],
 "metadata": {
  "kernelspec": {
   "display_name": "Python 3",
   "language": "python",
   "name": "python3"
  }
 },
 "nbformat": 4,
 "nbformat_minor": 4
}
